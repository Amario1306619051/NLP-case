{
 "cells": [
  {
   "cell_type": "code",
   "execution_count": null,
   "metadata": {},
   "outputs": [],
   "source": [
    "from db_process.database import save_to_database\n",
    "\n",
    "save_to_database(file_path='/home/rnd/Downloads/FAQ.xlsx', db_path='database', collection_name='TESTLLMMLarge1', LLM_process=False)"
   ]
  },
  {
   "cell_type": "code",
   "execution_count": 11,
   "metadata": {},
   "outputs": [
    {
     "name": "stdout",
     "output_type": "stream",
     "text": [
      "Connecting to the database at database...\n",
      "Querying the collection 'TESTLLMMLarge1'...\n"
     ]
    }
   ],
   "source": [
    "from db_process.database import query_database\n",
    "\n",
    "q = \"Dimana saya dapat menghubungi nawatech?\"\n",
    "a = query_database(db_path='database', collection_name='TESTLLMMLarge1', query=q)\n",
    "ans = [i['answer'] for i in a['metadatas'][0]]\n",
    "min_distance = a['distances'][0]\n",
    "min_distance\n",
    "\n",
    "from LLM.model import humanize, define_paragraph\n",
    "\n",
    "final = humanize(question=q, answer=ans, distance=min_distance)\n"
   ]
  },
  {
   "cell_type": "code",
   "execution_count": 12,
   "metadata": {},
   "outputs": [],
   "source": [
    "from LLM.model import humanize, define_paragraph\n",
    "\n",
    "final = humanize(question=q, answer=ans, distance=min_distance)\n"
   ]
  },
  {
   "cell_type": "code",
   "execution_count": 13,
   "metadata": {},
   "outputs": [
    {
     "name": "stdout",
     "output_type": "stream",
     "text": [
      "Anda dapat menghubungi Nawatech melalui link berikut ini: https://www.nawatech.co/contact-us. Di halaman tersebut, Anda dapat mengisi formulir kontak atau mengirimkan email ke alamat yang tersedia. \n",
      "\n",
      "Nawatech adalah perusahaan yang terdiri dari talenta-talenta bersemangat yang fokus menciptakan solusi inovatif dan berdampak bagi bisnis. \n",
      "\n",
      "Semoga informasi ini bermanfaat. \n",
      "\n"
     ]
    }
   ],
   "source": [
    "print(final)"
   ]
  }
 ],
 "metadata": {
  "kernelspec": {
   "display_name": "env",
   "language": "python",
   "name": "python3"
  },
  "language_info": {
   "codemirror_mode": {
    "name": "ipython",
    "version": 3
   },
   "file_extension": ".py",
   "mimetype": "text/x-python",
   "name": "python",
   "nbconvert_exporter": "python",
   "pygments_lexer": "ipython3",
   "version": "3.12.3"
  }
 },
 "nbformat": 4,
 "nbformat_minor": 2
}
