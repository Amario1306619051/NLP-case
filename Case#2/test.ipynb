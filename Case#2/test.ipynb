{
 "cells": [
  {
   "cell_type": "code",
   "execution_count": null,
   "metadata": {},
   "outputs": [],
   "source": [
    "from db_process.database import save_to_database\n",
    "\n",
    "save_to_database(file_path='/home/rnd/Downloads/FAQ.xlsx', db_path='database', collection_name='TESTLLMMLarge1', LLM_process=False)"
   ]
  },
  {
   "cell_type": "code",
   "execution_count": 1,
   "metadata": {},
   "outputs": [
    {
     "name": "stderr",
     "output_type": "stream",
     "text": [
      "/home/rnd/Documents/Belajar/Nawatech/env/lib/python3.12/site-packages/tqdm/auto.py:21: TqdmWarning: IProgress not found. Please update jupyter and ipywidgets. See https://ipywidgets.readthedocs.io/en/stable/user_install.html\n",
      "  from .autonotebook import tqdm as notebook_tqdm\n"
     ]
    },
    {
     "name": "stdout",
     "output_type": "stream",
     "text": [
      "Connecting to the database at database...\n"
     ]
    },
    {
     "name": "stderr",
     "output_type": "stream",
     "text": [
      "Asking to truncate to max_length but no maximum length is provided and the model has no predefined maximum length. Default to no truncation.\n"
     ]
    },
    {
     "name": "stdout",
     "output_type": "stream",
     "text": [
      "Querying the collection 'TESTLLMMLarge1'...\n"
     ]
    }
   ],
   "source": [
    "from db_process.database import query_database\n",
    "\n",
    "q = \"Dimana saya dapat menghubungi nawatech?\"\n",
    "a = query_database(db_path='database', collection_name='TESTLLMMLarge1', query=q)\n",
    "ans = [i['answer'] for i in a['metadatas'][0]]\n",
    "min_distance = a['distances'][0]\n",
    "min_distance\n",
    "\n",
    "from LLM.model import humanize, define_paragraph\n",
    "\n",
    "final = humanize(question=q, answer=ans, distance=min_distance)\n"
   ]
  },
  {
   "cell_type": "code",
   "execution_count": 12,
   "metadata": {},
   "outputs": [],
   "source": [
    "from LLM.model import humanize, define_paragraph\n",
    "\n",
    "final = humanize(question=q, answer=ans, distance=min_distance)\n"
   ]
  },
  {
   "cell_type": "code",
   "execution_count": 2,
   "metadata": {},
   "outputs": [
    {
     "name": "stdout",
     "output_type": "stream",
     "text": [
      "Untuk menghubungi Nawatech, Anda dapat mengklik tautan berikut ini: https://www.nawatech.co/contact-us. Di laman tersebut, Anda akan menemukan berbagai cara untuk menghubungi Nawatech, seperti melalui email, telepon, dan media sosial. \n",
      "\n",
      "Semoga informasi ini bermanfaat. Jika Anda memiliki pertanyaan lebih lanjut, silakan hubungi Nawatech melalui tautan yang telah disediakan. \n",
      "\n"
     ]
    }
   ],
   "source": [
    "print(final)"
   ]
  },
  {
   "cell_type": "code",
   "execution_count": null,
   "metadata": {},
   "outputs": [],
   "source": []
  }
 ],
 "metadata": {
  "kernelspec": {
   "display_name": "env",
   "language": "python",
   "name": "python3"
  },
  "language_info": {
   "codemirror_mode": {
    "name": "ipython",
    "version": 3
   },
   "file_extension": ".py",
   "mimetype": "text/x-python",
   "name": "python",
   "nbconvert_exporter": "python",
   "pygments_lexer": "ipython3",
   "version": "3.12.3"
  }
 },
 "nbformat": 4,
 "nbformat_minor": 2
}
