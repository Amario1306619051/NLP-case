{
 "cells": [
  {
   "cell_type": "markdown",
   "metadata": {},
   "source": [
    "# Eksplorasi Dataset"
   ]
  },
  {
   "cell_type": "code",
   "execution_count": 2,
   "metadata": {},
   "outputs": [
    {
     "name": "stderr",
     "output_type": "stream",
     "text": [
      "Processing texts: 100%|██████████| 300/300 [00:00<00:00, 8480.19it/s]\n"
     ]
    }
   ],
   "source": [
    "from Preprocessing.prepos_text import preprocess_dataframe\n",
    "\n",
    "\n",
    "dataset = preprocess_dataframe('/home/rnd/Downloads/dataset_tweet_sentiment_cellular_service_provider.csv',remove_special_char=True,\n",
    "                         remove_stopword=True, \n",
    "                         apply_stemming=True,\n",
    "                         URL=True,\n",
    "                         numbers=False,\n",
    "                         symbols=False,\n",
    "                         save_csv=True)"
   ]
  },
  {
   "cell_type": "code",
   "execution_count": 3,
   "metadata": {},
   "outputs": [
    {
     "data": {
      "text/plain": [
       "0      positive\n",
       "1      positive\n",
       "2      negative\n",
       "3      negative\n",
       "4      negative\n",
       "         ...   \n",
       "295    positive\n",
       "296    positive\n",
       "297    positive\n",
       "298    positive\n",
       "299    negative\n",
       "Name: Sentiment, Length: 300, dtype: object"
      ]
     },
     "execution_count": 3,
     "metadata": {},
     "output_type": "execute_result"
    }
   ],
   "source": [
    "dataset['Sentiment']"
   ]
  },
  {
   "cell_type": "code",
   "execution_count": 4,
   "metadata": {},
   "outputs": [],
   "source": [
    "label_dict = {label: idx for idx, label in enumerate(dataset['Sentiment'].unique())}\n",
    "labels = dataset['Sentiment'].map(label_dict).fillna(-1).astype(int).values\n",
    "label_dict = {idx: label for label, idx in label_dict.items()}"
   ]
  },
  {
   "cell_type": "code",
   "execution_count": 5,
   "metadata": {},
   "outputs": [
    {
     "data": {
      "text/plain": [
       "{0: 'positive', 1: 'negative'}"
      ]
     },
     "execution_count": 5,
     "metadata": {},
     "output_type": "execute_result"
    }
   ],
   "source": [
    "label_dict"
   ]
  },
  {
   "cell_type": "code",
   "execution_count": 6,
   "metadata": {},
   "outputs": [
    {
     "data": {
      "text/plain": [
       "array([0, 0, 1, 1, 1, 1, 0, 1, 1, 1, 1, 1, 1, 1, 1, 1, 0, 1, 1, 1, 1, 1,\n",
       "       0, 0, 1, 1, 1, 1, 1, 1, 1, 1, 0, 0, 1, 1, 1, 1, 1, 1, 1, 0, 0, 1,\n",
       "       0, 0, 0, 1, 1, 1, 0, 1, 1, 1, 1, 1, 1, 1, 0, 0, 1, 1, 1, 1, 1, 1,\n",
       "       0, 1, 1, 0, 1, 1, 1, 1, 0, 0, 0, 0, 1, 0, 1, 0, 1, 0, 0, 0, 0, 0,\n",
       "       1, 1, 1, 1, 1, 1, 1, 1, 0, 1, 0, 0, 1, 0, 0, 1, 1, 1, 1, 1, 1, 0,\n",
       "       0, 0, 0, 0, 0, 0, 0, 0, 0, 0, 0, 0, 0, 0, 0, 0, 0, 0, 0, 0, 0, 0,\n",
       "       0, 0, 0, 0, 0, 0, 0, 0, 0, 0, 0, 0, 0, 0, 0, 0, 0, 0, 0, 0, 1, 1,\n",
       "       1, 1, 1, 1, 0, 1, 1, 0, 0, 0, 1, 1, 1, 1, 1, 1, 0, 0, 0, 1, 1, 1,\n",
       "       1, 0, 0, 1, 1, 0, 0, 0, 0, 1, 1, 1, 1, 1, 1, 1, 0, 0, 1, 1, 1, 0,\n",
       "       0, 0, 0, 0, 0, 0, 0, 0, 0, 0, 0, 0, 0, 0, 1, 1, 1, 1, 1, 1, 0, 1,\n",
       "       0, 1, 0, 1, 0, 1, 1, 1, 1, 1, 1, 1, 1, 0, 0, 0, 0, 0, 0, 0, 0, 0,\n",
       "       0, 0, 0, 1, 1, 1, 0, 1, 1, 0, 1, 1, 1, 1, 1, 1, 1, 1, 1, 1, 1, 1,\n",
       "       1, 1, 1, 1, 1, 1, 1, 0, 1, 1, 1, 1, 1, 1, 0, 1, 1, 1, 1, 1, 1, 1,\n",
       "       1, 0, 0, 0, 0, 0, 0, 0, 0, 0, 0, 0, 0, 1])"
      ]
     },
     "execution_count": 6,
     "metadata": {},
     "output_type": "execute_result"
    }
   ],
   "source": [
    "labels"
   ]
  },
  {
   "cell_type": "code",
   "execution_count": 7,
   "metadata": {},
   "outputs": [
    {
     "data": {
      "text/plain": [
       "{0: 'positive', 1: 'negative'}"
      ]
     },
     "execution_count": 7,
     "metadata": {},
     "output_type": "execute_result"
    }
   ],
   "source": [
    "label_dict"
   ]
  },
  {
   "cell_type": "code",
   "execution_count": 8,
   "metadata": {},
   "outputs": [],
   "source": [
    "from Preprocessing.split import split_dataset\n",
    "train_texts, test_texts, train_labels, test_labels = split_dataset(texts=dataset['processed_text'].values, labels=labels, test_size=0.2)"
   ]
  },
  {
   "cell_type": "code",
   "execution_count": 10,
   "metadata": {},
   "outputs": [],
   "source": [
    "from dataloader.dataloader import build_dataloader\n",
    "from util import vocabularize, nltk_tokenizer\n",
    "\n",
    "\n",
    "vocab = vocabularize(\n",
    "    texts=dataset['processed_text'].values\n",
    ")\n",
    "train_dataloader = build_dataloader(\n",
    "    texts=train_texts,\n",
    "    labels=train_labels,\n",
    "    tokenizer=nltk_tokenizer,\n",
    "    vocab=vocab,\n",
    "    batch_size=32\n",
    ")\n",
    "\n",
    "val_dataloader = build_dataloader(\n",
    "    texts=test_texts,\n",
    "    labels=test_labels,\n",
    "    tokenizer=nltk_tokenizer,\n",
    "    vocab=vocab,\n",
    "    batch_size=32\n",
    ")"
   ]
  },
  {
   "cell_type": "code",
   "execution_count": 15,
   "metadata": {},
   "outputs": [
    {
     "data": {
      "text/plain": [
       "(['nih akses data camat cisewu kabupaten garut 4g',\n",
       "  'kualitas layan buruk 5 lapor tindak baik providername',\n",
       "  'selamat pagi providername bantu kamar sinyal 4g hilang 1 panggil darurat url',\n",
       "  'rt otheruser providername providername jaring 4g nya penuh ga konek internet',\n",
       "  'sinyal ping game aja gede sinyal tai providername',\n",
       "  'pindah provider kali ya internetan lot dengar teman si bagus providername providername',\n",
       "  'makan malam gratis hasil tuker providername poin providername url',\n",
       "  'santai pakai providername providername4g providernamebagiberkah andal',\n",
       "  'terima kasih providername providername',\n",
       "  'nikmat dapat guna providername tonton youtube gratis tahun',\n",
       "  'kualitas sinyal 4g providername lengkap riah festival',\n",
       "  'nonton gratis dibayarin providername poin providername providernamepoin',\n",
       "  'sakti alhamdulillah v providername',\n",
       "  'sinyal providername hebat puncak halimun on mantap',\n",
       "  'buka puasa streaming youtube lancar banget pakai providername setia providername',\n",
       "  'pindah providername bukti',\n",
       "  'isi kuota 2 menit langsung habis kacau providername url',\n",
       "  'yuk pakai providername rp1 gratis 1gb',\n",
       "  'providername daerah udah 3 trouble mulu',\n",
       "  'providername ga sesuai iklan',\n",
       "  'pakai providername pakai providername rasa providernamelemot providernamemahal bareng kualitas',\n",
       "  'rasa segitu besar ping 36604 ribu lumayan bukber providername providername',\n",
       "  'ayo pakai kartu providername buang got ya',\n",
       "  'internet mahal turun harga paket providername',\n",
       "  'providername tarif mahal sinyal parah',\n",
       "  'jaring internet providername sumba timur parah',\n",
       "  'tethering pakai kartu providername sinyal kencang badai browsing cari bahan artikel jamin lancar',\n",
       "  'minggu masuk kerja gak dikerjain ujung2nya cari lapak rebah denger musik youtube providername top deh',\n",
       "  'terimakasih paket data aktif normal terimakasih providername puas layan providername providername',\n",
       "  'mantap providername url',\n",
       "  'aman providername tingkat bikin rugi langgan aja url',\n",
       "  'nulis serta hashtag providernamelemot hidup mana sih ungar pakai providername lancar2 aja tuh'],\n",
       " tensor([[ 60, 312,  21, 370, 377, 479, 421,   7,   1,   1,   1,   1,   1,   1,\n",
       "            1],\n",
       "         [ 56,  57, 121, 303, 521, 697,  54,   2,   1,   1,   1,   1,   1,   1,\n",
       "            1],\n",
       "         [101, 143,   2, 117, 483,   5,   7,  69,  52, 603, 388,   3,   1,   1,\n",
       "            1],\n",
       "         [ 50,  14,   2,   2,   6,   7,  38,  98,  29, 509,  16,   1,   1,   1,\n",
       "            1],\n",
       "         [  5, 237, 420,  23, 422,   5, 104,   2,   1,   1,   1,   1,   1,   1,\n",
       "            1],\n",
       "         [145,  78, 204,  19,  91,  31, 177, 157, 251,  39,   2,   2,   1,   1,\n",
       "            1],\n",
       "         [ 96,  49,  12, 191, 709,   2,  77,   2,   3,   1,   1,   1,   1,   1,\n",
       "            1],\n",
       "         [644,   4,   2, 617, 619, 320,   1,   1,   1,   1,   1,   1,   1,   1,\n",
       "            1],\n",
       "         [263, 205,   2,   2,   1,   1,   1,   1,   1,   1,   1,   1,   1,   1,\n",
       "            1],\n",
       "         [581, 387, 189,   2, 266,  24,  12, 156,   1,   1,   1,   1,   1,   1,\n",
       "            1],\n",
       "         [ 56,   5,   7,   2, 526, 244, 413,   1,   1,   1,   1,   1,   1,   1,\n",
       "            1],\n",
       "         [141,  12, 178,   2,  77,   2, 241,   1,   1,   1,   1,   1,   1,   1,\n",
       "            1],\n",
       "         [639,  20, 108,   2,   1,   1,   1,   1,   1,   1,   1,   1,   1,   1,\n",
       "            1],\n",
       "         [  5,   2, 192, 626, 439, 593,  43,   1,   1,   1,   1,   1,   1,   1,\n",
       "            1],\n",
       "         [ 86,  99, 103,  24,  13,  15,   4,   2,  62,   2,   1,   1,   1,   1,\n",
       "            1],\n",
       "         [145,   2, 173,   1,   1,   1,   1,   1,   1,   1,   1,   1,   1,   1,\n",
       "            1],\n",
       "         [ 42,  11,  53,  97,  73,  37, 203,   2,   3,   1,   1,   1,   1,   1,\n",
       "            1],\n",
       "         [735,   4,   2, 245,  12,  82,   1,   1,   1,   1,   1,   1,   1,   1,\n",
       "            1],\n",
       "         [  2,  68,  45, 111, 267, 225,   1,   1,   1,   1,   1,   1,   1,   1,\n",
       "            1],\n",
       "         [  2,  29, 653,  70,   1,   1,   1,   1,   1,   1,   1,   1,   1,   1,\n",
       "            1],\n",
       "         [  4,   2,   4,   2, 242, 240, 149, 340,  56,   1,   1,   1,   1,   1,\n",
       "            1],\n",
       "         [242, 647, 357, 237, 299, 150,  95, 365,   2,   2,   1,   1,   1,   1,\n",
       "            1],\n",
       "         [ 35,   4,  25,   2,  40, 431,  19,   1,   1,   1,   1,   1,   1,   1,\n",
       "            1],\n",
       "         [ 16,  22, 269,  89,  17,   2,   1,   1,   1,   1,   1,   1,   1,   1,\n",
       "            1],\n",
       "         [  2, 105,  22,   5,  44,   1,   1,   1,   1,   1,   1,   1,   1,   1,\n",
       "            1],\n",
       "         [  6,  16,   2, 257, 158,  44,   1,   1,   1,   1,   1,   1,   1,   1,\n",
       "            1],\n",
       "         [693,   4,  25,   2,   5,  55, 332, 363,  87, 334, 328, 466,  13,   1,\n",
       "            1],\n",
       "         [ 74, 219,  72,   8, 398, 714,  87, 520, 630, 391, 226,  24,   2, 702,\n",
       "          124],\n",
       "         [ 33,  17,  21, 165, 585,  33,   2, 624,  57,   2,   2,   1,   1,   1,\n",
       "            1],\n",
       "         [ 43,   2,   3,   1,   1,   1,   1,   1,   1,   1,   1,   1,   1,   1,\n",
       "            1],\n",
       "         [115,   2, 698,  28, 100,  94,  23,   3,   1,   1,   1,   1,   1,   1,\n",
       "            1],\n",
       "         [586, 250, 443, 240, 446, 218,  63, 716,   4,   2, 518,  23, 705,   1,\n",
       "            1]]),\n",
       " tensor([1, 1, 1, 1, 1, 0, 0, 0, 0, 0, 0, 0, 0, 0, 0, 0, 1, 0, 1, 1, 0, 0, 1, 1,\n",
       "         1, 1, 0, 0, 0, 0, 1, 0]))"
      ]
     },
     "execution_count": 15,
     "metadata": {},
     "output_type": "execute_result"
    }
   ],
   "source": [
    "next(iter(train_dataloader))"
   ]
  },
  {
   "cell_type": "code",
   "execution_count": 11,
   "metadata": {},
   "outputs": [
    {
     "data": {
      "text/plain": [
       "['positive', 'negative']"
      ]
     },
     "execution_count": 11,
     "metadata": {},
     "output_type": "execute_result"
    }
   ],
   "source": [
    "dataset['Sentiment'].unique().tolist()"
   ]
  },
  {
   "cell_type": "code",
   "execution_count": 12,
   "metadata": {},
   "outputs": [],
   "source": [
    "from model.LSTM import LSTMModel3, BidirectionalLSTMModel, GRUModel, LSTM_CNN_Model\n",
    "import torch.nn as nn\n",
    "from torch import optim\n",
    "\n",
    "criterion = nn.CrossEntropyLoss()\n"
   ]
  },
  {
   "cell_type": "code",
   "execution_count": 12,
   "metadata": {},
   "outputs": [
    {
     "data": {
      "text/plain": [
       "(0, 'positive', 0.5168493986129761)"
      ]
     },
     "execution_count": 12,
     "metadata": {},
     "output_type": "execute_result"
    }
   ],
   "source": [
    "model = LSTM_CNN_Model(weights='/home/rnd/Documents/Belajar/Nawatech/Case#1/DL_models/LSTM_CNN_Model/best.pt')\n",
    "model.predict('cakep banget woy sukaa')"
   ]
  },
  {
   "cell_type": "code",
   "execution_count": 13,
   "metadata": {},
   "outputs": [
    {
     "name": "stdout",
     "output_type": "stream",
     "text": [
      "Validation | Acc: 86.67% | F1: 0.8653, Prec: 0.8653, Rec: 0.8653\n"
     ]
    },
    {
     "data": {
      "text/plain": [
       "{'accuracy': 86.66666666666667,\n",
       " 'precision': 0.8653198653198653,\n",
       " 'recall': 0.8653198653198653,\n",
       " 'f1_score': 0.8653198653198653}"
      ]
     },
     "execution_count": 13,
     "metadata": {},
     "output_type": "execute_result"
    }
   ],
   "source": [
    "model.valid(val_dataloader)"
   ]
  },
  {
   "cell_type": "code",
   "execution_count": 19,
   "metadata": {},
   "outputs": [
    {
     "name": "stdout",
     "output_type": "stream",
     "text": [
      "Preprocessing the dataset...\n"
     ]
    },
    {
     "name": "stderr",
     "output_type": "stream",
     "text": [
      "Processing texts: 100%|██████████| 300/300 [00:00<00:00, 9378.20it/s]\n",
      "/home/rnd/Documents/Belajar/Nawatech/env/lib/python3.12/site-packages/torch/nn/modules/rnn.py:83: UserWarning: dropout option adds dropout after all but last recurrent layer, so non-zero dropout expects num_layers greater than 1, but got dropout=0.5 and num_layers=1\n",
      "  warnings.warn(\"dropout option adds dropout after all but last \"\n"
     ]
    },
    {
     "name": "stdout",
     "output_type": "stream",
     "text": [
      "encoded label : {0: 'positive', 1: 'negative'}\n"
     ]
    },
    {
     "name": "stderr",
     "output_type": "stream",
     "text": [
      "Epoch 1/100 [Training]: 100%|██████████| 8/8 [00:00<00:00, 54.87it/s, Loss=0.4520, Acc=46.67%]\n",
      "Epoch 1/100 [Validation]: 100%|██████████| 2/2 [00:00<00:00, 117.52it/s, Loss=0.6543, Acc=46.67%]\n"
     ]
    },
    {
     "name": "stdout",
     "output_type": "stream",
     "text": [
      "Overall Validation Metrics | Precision: 0.7288, Recall: 0.5152, F1: 0.3434\n",
      "Epoch 1/100 | Train Loss: 0.8475, Acc: 46.67% | Val Loss: 0.7011, Acc: 46.67% | F1: 0.3434, Prec: 0.7288, Rec: 0.5152\n"
     ]
    },
    {
     "name": "stderr",
     "output_type": "stream",
     "text": [
      "Epoch 2/100 [Training]: 100%|██████████| 8/8 [00:00<00:00, 63.69it/s, Loss=0.3722, Acc=53.75%]\n",
      "Epoch 2/100 [Validation]: 100%|██████████| 2/2 [00:00<00:00, 131.72it/s, Loss=0.6531, Acc=55.00%]\n"
     ]
    },
    {
     "name": "stdout",
     "output_type": "stream",
     "text": [
      "Overall Validation Metrics | Precision: 0.2750, Recall: 0.5000, F1: 0.3548\n",
      "Epoch 2/100 | Train Loss: 0.6979, Acc: 53.75% | Val Loss: 0.6998, Acc: 55.00% | F1: 0.3548, Prec: 0.2750, Rec: 0.5000\n"
     ]
    },
    {
     "name": "stderr",
     "output_type": "stream",
     "text": [
      "Epoch 3/100 [Training]: 100%|██████████| 8/8 [00:00<00:00, 58.80it/s, Loss=0.3660, Acc=54.58%]\n",
      "Epoch 3/100 [Validation]: 100%|██████████| 2/2 [00:00<00:00, 124.07it/s, Loss=0.6398, Acc=55.00%]\n"
     ]
    },
    {
     "name": "stdout",
     "output_type": "stream",
     "text": [
      "Overall Validation Metrics | Precision: 0.2750, Recall: 0.5000, F1: 0.3548\n",
      "Epoch 3/100 | Train Loss: 0.6862, Acc: 54.58% | Val Loss: 0.6856, Acc: 55.00% | F1: 0.3548, Prec: 0.2750, Rec: 0.5000\n"
     ]
    },
    {
     "name": "stderr",
     "output_type": "stream",
     "text": [
      "Epoch 4/100 [Training]: 100%|██████████| 8/8 [00:00<00:00, 58.14it/s, Loss=0.3603, Acc=55.83%]\n",
      "Epoch 4/100 [Validation]: 100%|██████████| 2/2 [00:00<00:00, 139.86it/s, Loss=0.6360, Acc=55.00%]\n"
     ]
    },
    {
     "name": "stdout",
     "output_type": "stream",
     "text": [
      "Overall Validation Metrics | Precision: 0.2750, Recall: 0.5000, F1: 0.3548\n",
      "Epoch 4/100 | Train Loss: 0.6756, Acc: 55.83% | Val Loss: 0.6815, Acc: 55.00% | F1: 0.3548, Prec: 0.2750, Rec: 0.5000\n"
     ]
    },
    {
     "name": "stderr",
     "output_type": "stream",
     "text": [
      "Epoch 5/100 [Training]: 100%|██████████| 8/8 [00:00<00:00, 60.41it/s, Loss=0.3565, Acc=55.42%]\n",
      "Epoch 5/100 [Validation]: 100%|██████████| 2/2 [00:00<00:00, 134.58it/s, Loss=0.6326, Acc=56.67%]\n"
     ]
    },
    {
     "name": "stdout",
     "output_type": "stream",
     "text": [
      "Overall Validation Metrics | Precision: 0.7797, Recall: 0.5185, F1: 0.3944\n",
      "Epoch 5/100 | Train Loss: 0.6685, Acc: 55.42% | Val Loss: 0.6778, Acc: 56.67% | F1: 0.3944, Prec: 0.7797, Rec: 0.5185\n"
     ]
    },
    {
     "name": "stderr",
     "output_type": "stream",
     "text": [
      "Epoch 6/100 [Training]: 100%|██████████| 8/8 [00:00<00:00, 61.68it/s, Loss=0.3470, Acc=57.92%]\n",
      "Epoch 6/100 [Validation]: 100%|██████████| 2/2 [00:00<00:00, 132.26it/s, Loss=0.6288, Acc=53.33%]\n"
     ]
    },
    {
     "name": "stdout",
     "output_type": "stream",
     "text": [
      "Overall Validation Metrics | Precision: 0.2712, Recall: 0.4848, F1: 0.3478\n",
      "Epoch 6/100 | Train Loss: 0.6506, Acc: 57.92% | Val Loss: 0.6737, Acc: 53.33% | F1: 0.3478, Prec: 0.2712, Rec: 0.4848\n"
     ]
    },
    {
     "name": "stderr",
     "output_type": "stream",
     "text": [
      "Epoch 7/100 [Training]: 100%|██████████| 8/8 [00:00<00:00, 60.71it/s, Loss=0.3353, Acc=63.33%]\n",
      "Epoch 7/100 [Validation]: 100%|██████████| 2/2 [00:00<00:00, 120.48it/s, Loss=0.6090, Acc=60.00%]\n"
     ]
    },
    {
     "name": "stdout",
     "output_type": "stream",
     "text": [
      "Overall Validation Metrics | Precision: 0.6275, Recall: 0.5657, F1: 0.5238\n",
      "Epoch 7/100 | Train Loss: 0.6287, Acc: 63.33% | Val Loss: 0.6525, Acc: 60.00% | F1: 0.5238, Prec: 0.6275, Rec: 0.5657\n"
     ]
    },
    {
     "name": "stderr",
     "output_type": "stream",
     "text": [
      "Epoch 8/100 [Training]: 100%|██████████| 8/8 [00:00<00:00, 64.91it/s, Loss=0.3013, Acc=84.17%]\n",
      "Epoch 8/100 [Validation]: 100%|██████████| 2/2 [00:00<00:00, 141.36it/s, Loss=0.5411, Acc=78.33%]\n"
     ]
    },
    {
     "name": "stdout",
     "output_type": "stream",
     "text": [
      "Overall Validation Metrics | Precision: 0.8000, Recall: 0.7694, F1: 0.7727\n",
      "Epoch 8/100 | Train Loss: 0.5649, Acc: 84.17% | Val Loss: 0.5798, Acc: 78.33% | F1: 0.7727, Prec: 0.8000, Rec: 0.7694\n"
     ]
    },
    {
     "name": "stderr",
     "output_type": "stream",
     "text": [
      "Epoch 9/100 [Training]: 100%|██████████| 8/8 [00:00<00:00, 65.60it/s, Loss=0.2466, Acc=92.50%]\n",
      "Epoch 9/100 [Validation]: 100%|██████████| 2/2 [00:00<00:00, 144.99it/s, Loss=0.4611, Acc=76.67%]\n"
     ]
    },
    {
     "name": "stdout",
     "output_type": "stream",
     "text": [
      "Overall Validation Metrics | Precision: 0.8016, Recall: 0.7475, F1: 0.7488\n",
      "Epoch 9/100 | Train Loss: 0.4624, Acc: 92.50% | Val Loss: 0.4941, Acc: 76.67% | F1: 0.7488, Prec: 0.8016, Rec: 0.7475\n"
     ]
    },
    {
     "name": "stderr",
     "output_type": "stream",
     "text": [
      "Epoch 10/100 [Training]: 100%|██████████| 8/8 [00:00<00:00, 63.92it/s, Loss=0.1715, Acc=95.42%]\n",
      "Epoch 10/100 [Validation]: 100%|██████████| 2/2 [00:00<00:00, 128.56it/s, Loss=0.3730, Acc=81.67%]\n"
     ]
    },
    {
     "name": "stdout",
     "output_type": "stream",
     "text": [
      "Overall Validation Metrics | Precision: 0.8266, Recall: 0.8064, F1: 0.8103\n",
      "Epoch 10/100 | Train Loss: 0.3215, Acc: 95.42% | Val Loss: 0.3997, Acc: 81.67% | F1: 0.8103, Prec: 0.8266, Rec: 0.8064\n"
     ]
    },
    {
     "name": "stderr",
     "output_type": "stream",
     "text": [
      "Epoch 11/100 [Training]: 100%|██████████| 8/8 [00:00<00:00, 61.47it/s, Loss=0.1087, Acc=97.08%]\n",
      "Epoch 11/100 [Validation]: 100%|██████████| 2/2 [00:00<00:00, 151.46it/s, Loss=0.3899, Acc=81.67%]\n"
     ]
    },
    {
     "name": "stdout",
     "output_type": "stream",
     "text": [
      "Overall Validation Metrics | Precision: 0.8266, Recall: 0.8064, F1: 0.8103\n",
      "Epoch 11/100 | Train Loss: 0.2038, Acc: 97.08% | Val Loss: 0.4178, Acc: 81.67% | F1: 0.8103, Prec: 0.8266, Rec: 0.8064\n"
     ]
    },
    {
     "name": "stderr",
     "output_type": "stream",
     "text": [
      "Epoch 12/100 [Training]: 100%|██████████| 8/8 [00:00<00:00, 58.69it/s, Loss=0.0645, Acc=98.33%]\n",
      "Epoch 12/100 [Validation]: 100%|██████████| 2/2 [00:00<00:00, 128.38it/s, Loss=0.4683, Acc=80.00%]\n"
     ]
    },
    {
     "name": "stdout",
     "output_type": "stream",
     "text": [
      "Overall Validation Metrics | Precision: 0.8132, Recall: 0.7879, F1: 0.7917\n",
      "Epoch 12/100 | Train Loss: 0.1210, Acc: 98.33% | Val Loss: 0.5017, Acc: 80.00% | F1: 0.7917, Prec: 0.8132, Rec: 0.7879\n"
     ]
    },
    {
     "name": "stderr",
     "output_type": "stream",
     "text": [
      "Epoch 13/100 [Training]: 100%|██████████| 8/8 [00:00<00:00, 59.97it/s, Loss=0.0455, Acc=98.75%]\n",
      "Epoch 13/100 [Validation]: 100%|██████████| 2/2 [00:00<00:00, 131.58it/s, Loss=0.4229, Acc=80.00%]\n"
     ]
    },
    {
     "name": "stdout",
     "output_type": "stream",
     "text": [
      "Overall Validation Metrics | Precision: 0.7980, Recall: 0.7980, F1: 0.7980\n",
      "Epoch 13/100 | Train Loss: 0.0852, Acc: 98.75% | Val Loss: 0.4531, Acc: 80.00% | F1: 0.7980, Prec: 0.7980, Rec: 0.7980\n"
     ]
    },
    {
     "name": "stderr",
     "output_type": "stream",
     "text": [
      "Epoch 14/100 [Training]: 100%|██████████| 8/8 [00:00<00:00, 62.70it/s, Loss=0.0346, Acc=98.33%]\n",
      "Epoch 14/100 [Validation]: 100%|██████████| 2/2 [00:00<00:00, 123.33it/s, Loss=0.5070, Acc=80.00%]\n"
     ]
    },
    {
     "name": "stdout",
     "output_type": "stream",
     "text": [
      "Overall Validation Metrics | Precision: 0.8427, Recall: 0.7811, F1: 0.7847\n",
      "Epoch 14/100 | Train Loss: 0.0649, Acc: 98.33% | Val Loss: 0.5432, Acc: 80.00% | F1: 0.7847, Prec: 0.8427, Rec: 0.7811\n"
     ]
    },
    {
     "name": "stderr",
     "output_type": "stream",
     "text": [
      "Epoch 15/100 [Training]: 100%|██████████| 8/8 [00:00<00:00, 66.16it/s, Loss=0.0287, Acc=98.33%]\n",
      "Epoch 15/100 [Validation]: 100%|██████████| 2/2 [00:00<00:00, 145.41it/s, Loss=0.3340, Acc=85.00%]\n"
     ]
    },
    {
     "name": "stdout",
     "output_type": "stream",
     "text": [
      "Overall Validation Metrics | Precision: 0.8500, Recall: 0.8535, F1: 0.8496\n",
      "Epoch 15/100 | Train Loss: 0.0538, Acc: 98.33% | Val Loss: 0.3578, Acc: 85.00% | F1: 0.8496, Prec: 0.8500, Rec: 0.8535\n"
     ]
    },
    {
     "name": "stderr",
     "output_type": "stream",
     "text": [
      "Epoch 16/100 [Training]: 100%|██████████| 8/8 [00:00<00:00, 58.90it/s, Loss=0.0242, Acc=98.75%]\n",
      "Epoch 16/100 [Validation]: 100%|██████████| 2/2 [00:00<00:00, 142.36it/s, Loss=0.4009, Acc=83.33%]\n"
     ]
    },
    {
     "name": "stdout",
     "output_type": "stream",
     "text": [
      "Overall Validation Metrics | Precision: 0.8343, Recall: 0.8283, F1: 0.8303\n",
      "Epoch 16/100 | Train Loss: 0.0454, Acc: 98.75% | Val Loss: 0.4295, Acc: 83.33% | F1: 0.8303, Prec: 0.8343, Rec: 0.8283\n"
     ]
    },
    {
     "name": "stderr",
     "output_type": "stream",
     "text": [
      "Epoch 17/100 [Training]: 100%|██████████| 8/8 [00:00<00:00, 67.67it/s, Loss=0.0158, Acc=99.17%]\n",
      "Epoch 17/100 [Validation]: 100%|██████████| 2/2 [00:00<00:00, 140.41it/s, Loss=0.4771, Acc=83.33%]\n"
     ]
    },
    {
     "name": "stdout",
     "output_type": "stream",
     "text": [
      "Overall Validation Metrics | Precision: 0.8402, Recall: 0.8249, F1: 0.8286\n",
      "Epoch 17/100 | Train Loss: 0.0295, Acc: 99.17% | Val Loss: 0.5112, Acc: 83.33% | F1: 0.8286, Prec: 0.8402, Rec: 0.8249\n"
     ]
    },
    {
     "name": "stderr",
     "output_type": "stream",
     "text": [
      "Epoch 18/100 [Training]: 100%|██████████| 8/8 [00:00<00:00, 60.47it/s, Loss=0.0075, Acc=99.58%]\n",
      "Epoch 18/100 [Validation]: 100%|██████████| 2/2 [00:00<00:00, 133.34it/s, Loss=0.4641, Acc=83.33%]\n"
     ]
    },
    {
     "name": "stdout",
     "output_type": "stream",
     "text": [
      "Overall Validation Metrics | Precision: 0.8316, Recall: 0.8316, F1: 0.8316\n",
      "Epoch 18/100 | Train Loss: 0.0141, Acc: 99.58% | Val Loss: 0.4972, Acc: 83.33% | F1: 0.8316, Prec: 0.8316, Rec: 0.8316\n"
     ]
    },
    {
     "name": "stderr",
     "output_type": "stream",
     "text": [
      "Epoch 19/100 [Training]: 100%|██████████| 8/8 [00:00<00:00, 57.69it/s, Loss=0.0049, Acc=100.00%]\n",
      "Epoch 19/100 [Validation]: 100%|██████████| 2/2 [00:00<00:00, 122.85it/s, Loss=0.4955, Acc=81.67%]\n"
     ]
    },
    {
     "name": "stdout",
     "output_type": "stream",
     "text": [
      "Overall Validation Metrics | Precision: 0.8147, Recall: 0.8165, F1: 0.8154\n",
      "Epoch 19/100 | Train Loss: 0.0091, Acc: 100.00% | Val Loss: 0.5309, Acc: 81.67% | F1: 0.8154, Prec: 0.8147, Rec: 0.8165\n"
     ]
    },
    {
     "name": "stderr",
     "output_type": "stream",
     "text": [
      "Epoch 20/100 [Training]: 100%|██████████| 8/8 [00:00<00:00, 66.20it/s, Loss=0.0041, Acc=100.00%]\n",
      "Epoch 20/100 [Validation]: 100%|██████████| 2/2 [00:00<00:00, 143.27it/s, Loss=0.5363, Acc=81.67%]\n"
     ]
    },
    {
     "name": "stdout",
     "output_type": "stream",
     "text": [
      "Overall Validation Metrics | Precision: 0.8147, Recall: 0.8165, F1: 0.8154\n",
      "Epoch 20/100 | Train Loss: 0.0077, Acc: 100.00% | Val Loss: 0.5746, Acc: 81.67% | F1: 0.8154, Prec: 0.8147, Rec: 0.8165\n"
     ]
    },
    {
     "name": "stderr",
     "output_type": "stream",
     "text": [
      "Epoch 21/100 [Training]: 100%|██████████| 8/8 [00:00<00:00, 62.09it/s, Loss=0.0028, Acc=100.00%]\n",
      "Epoch 21/100 [Validation]: 100%|██████████| 2/2 [00:00<00:00, 138.77it/s, Loss=0.5452, Acc=83.33%]\n"
     ]
    },
    {
     "name": "stdout",
     "output_type": "stream",
     "text": [
      "Overall Validation Metrics | Precision: 0.8316, Recall: 0.8316, F1: 0.8316\n",
      "Epoch 21/100 | Train Loss: 0.0053, Acc: 100.00% | Val Loss: 0.5841, Acc: 83.33% | F1: 0.8316, Prec: 0.8316, Rec: 0.8316\n"
     ]
    },
    {
     "name": "stderr",
     "output_type": "stream",
     "text": [
      "Epoch 22/100 [Training]: 100%|██████████| 8/8 [00:00<00:00, 62.48it/s, Loss=0.0020, Acc=100.00%]\n",
      "Epoch 22/100 [Validation]: 100%|██████████| 2/2 [00:00<00:00, 140.61it/s, Loss=0.5781, Acc=83.33%]\n"
     ]
    },
    {
     "name": "stdout",
     "output_type": "stream",
     "text": [
      "Overall Validation Metrics | Precision: 0.8316, Recall: 0.8316, F1: 0.8316\n",
      "Epoch 22/100 | Train Loss: 0.0037, Acc: 100.00% | Val Loss: 0.6194, Acc: 83.33% | F1: 0.8316, Prec: 0.8316, Rec: 0.8316\n"
     ]
    },
    {
     "name": "stderr",
     "output_type": "stream",
     "text": [
      "Epoch 23/100 [Training]: 100%|██████████| 8/8 [00:00<00:00, 62.92it/s, Loss=0.0018, Acc=100.00%]\n",
      "Epoch 23/100 [Validation]: 100%|██████████| 2/2 [00:00<00:00, 142.77it/s, Loss=0.5699, Acc=83.33%]\n"
     ]
    },
    {
     "name": "stdout",
     "output_type": "stream",
     "text": [
      "Overall Validation Metrics | Precision: 0.8316, Recall: 0.8316, F1: 0.8316\n",
      "Epoch 23/100 | Train Loss: 0.0033, Acc: 100.00% | Val Loss: 0.6106, Acc: 83.33% | F1: 0.8316, Prec: 0.8316, Rec: 0.8316\n"
     ]
    },
    {
     "name": "stderr",
     "output_type": "stream",
     "text": [
      "Epoch 24/100 [Training]: 100%|██████████| 8/8 [00:00<00:00, 61.44it/s, Loss=0.0015, Acc=100.00%]\n",
      "Epoch 24/100 [Validation]: 100%|██████████| 2/2 [00:00<00:00, 155.91it/s, Loss=0.5580, Acc=81.67%]\n"
     ]
    },
    {
     "name": "stdout",
     "output_type": "stream",
     "text": [
      "Overall Validation Metrics | Precision: 0.8147, Recall: 0.8165, F1: 0.8154\n",
      "Epoch 24/100 | Train Loss: 0.0028, Acc: 100.00% | Val Loss: 0.5979, Acc: 81.67% | F1: 0.8154, Prec: 0.8147, Rec: 0.8165\n"
     ]
    },
    {
     "name": "stderr",
     "output_type": "stream",
     "text": [
      "Epoch 25/100 [Training]: 100%|██████████| 8/8 [00:00<00:00, 66.19it/s, Loss=0.0013, Acc=100.00%]\n",
      "Epoch 25/100 [Validation]: 100%|██████████| 2/2 [00:00<00:00, 136.08it/s, Loss=0.5882, Acc=85.00%]\n"
     ]
    },
    {
     "name": "stdout",
     "output_type": "stream",
     "text": [
      "Overall Validation Metrics | Precision: 0.8495, Recall: 0.8468, F1: 0.8479\n",
      "Epoch 25/100 | Train Loss: 0.0024, Acc: 100.00% | Val Loss: 0.6303, Acc: 85.00% | F1: 0.8479, Prec: 0.8495, Rec: 0.8468\n"
     ]
    },
    {
     "name": "stderr",
     "output_type": "stream",
     "text": [
      "Epoch 26/100 [Training]: 100%|██████████| 8/8 [00:00<00:00, 63.25it/s, Loss=0.0012, Acc=100.00%]\n",
      "Epoch 26/100 [Validation]: 100%|██████████| 2/2 [00:00<00:00, 133.18it/s, Loss=0.5797, Acc=85.00%]\n"
     ]
    },
    {
     "name": "stdout",
     "output_type": "stream",
     "text": [
      "Overall Validation Metrics | Precision: 0.8495, Recall: 0.8468, F1: 0.8479\n",
      "Epoch 26/100 | Train Loss: 0.0022, Acc: 100.00% | Val Loss: 0.6212, Acc: 85.00% | F1: 0.8479, Prec: 0.8495, Rec: 0.8468\n"
     ]
    },
    {
     "name": "stderr",
     "output_type": "stream",
     "text": [
      "Epoch 27/100 [Training]: 100%|██████████| 8/8 [00:00<00:00, 64.27it/s, Loss=0.0010, Acc=100.00%]\n",
      "Epoch 27/100 [Validation]: 100%|██████████| 2/2 [00:00<00:00, 130.41it/s, Loss=0.6282, Acc=86.67%]\n"
     ]
    },
    {
     "name": "stdout",
     "output_type": "stream",
     "text": [
      "Overall Validation Metrics | Precision: 0.8653, Recall: 0.8653, F1: 0.8653\n",
      "Epoch 27/100 | Train Loss: 0.0019, Acc: 100.00% | Val Loss: 0.6731, Acc: 86.67% | F1: 0.8653, Prec: 0.8653, Rec: 0.8653\n"
     ]
    },
    {
     "name": "stderr",
     "output_type": "stream",
     "text": [
      "Epoch 28/100 [Training]: 100%|██████████| 8/8 [00:00<00:00, 61.10it/s, Loss=0.0009, Acc=100.00%]\n",
      "Epoch 28/100 [Validation]: 100%|██████████| 2/2 [00:00<00:00, 128.44it/s, Loss=0.6258, Acc=86.67%]\n"
     ]
    },
    {
     "name": "stdout",
     "output_type": "stream",
     "text": [
      "Overall Validation Metrics | Precision: 0.8653, Recall: 0.8653, F1: 0.8653\n",
      "Epoch 28/100 | Train Loss: 0.0018, Acc: 100.00% | Val Loss: 0.6705, Acc: 86.67% | F1: 0.8653, Prec: 0.8653, Rec: 0.8653\n"
     ]
    },
    {
     "name": "stderr",
     "output_type": "stream",
     "text": [
      "Epoch 29/100 [Training]: 100%|██████████| 8/8 [00:00<00:00, 61.40it/s, Loss=0.0009, Acc=100.00%]\n",
      "Epoch 29/100 [Validation]: 100%|██████████| 2/2 [00:00<00:00, 126.19it/s, Loss=0.6361, Acc=86.67%]\n"
     ]
    },
    {
     "name": "stdout",
     "output_type": "stream",
     "text": [
      "Overall Validation Metrics | Precision: 0.8653, Recall: 0.8653, F1: 0.8653\n",
      "Epoch 29/100 | Train Loss: 0.0018, Acc: 100.00% | Val Loss: 0.6815, Acc: 86.67% | F1: 0.8653, Prec: 0.8653, Rec: 0.8653\n"
     ]
    },
    {
     "name": "stderr",
     "output_type": "stream",
     "text": [
      "Epoch 30/100 [Training]: 100%|██████████| 8/8 [00:00<00:00, 59.76it/s, Loss=0.0008, Acc=100.00%]\n",
      "Epoch 30/100 [Validation]: 100%|██████████| 2/2 [00:00<00:00, 153.61it/s, Loss=0.6581, Acc=86.67%]\n"
     ]
    },
    {
     "name": "stdout",
     "output_type": "stream",
     "text": [
      "Overall Validation Metrics | Precision: 0.8653, Recall: 0.8653, F1: 0.8653\n",
      "Epoch 30/100 | Train Loss: 0.0015, Acc: 100.00% | Val Loss: 0.7051, Acc: 86.67% | F1: 0.8653, Prec: 0.8653, Rec: 0.8653\n"
     ]
    },
    {
     "name": "stderr",
     "output_type": "stream",
     "text": [
      "Epoch 31/100 [Training]: 100%|██████████| 8/8 [00:00<00:00, 69.08it/s, Loss=0.0007, Acc=100.00%]\n",
      "Epoch 31/100 [Validation]: 100%|██████████| 2/2 [00:00<00:00, 149.72it/s, Loss=0.6263, Acc=86.67%]\n"
     ]
    },
    {
     "name": "stdout",
     "output_type": "stream",
     "text": [
      "Overall Validation Metrics | Precision: 0.8653, Recall: 0.8653, F1: 0.8653\n",
      "Epoch 31/100 | Train Loss: 0.0013, Acc: 100.00% | Val Loss: 0.6711, Acc: 86.67% | F1: 0.8653, Prec: 0.8653, Rec: 0.8653\n"
     ]
    },
    {
     "name": "stderr",
     "output_type": "stream",
     "text": [
      "Epoch 32/100 [Training]: 100%|██████████| 8/8 [00:00<00:00, 68.32it/s, Loss=0.0007, Acc=100.00%]\n",
      "Epoch 32/100 [Validation]: 100%|██████████| 2/2 [00:00<00:00, 153.34it/s, Loss=0.6586, Acc=86.67%]\n"
     ]
    },
    {
     "name": "stdout",
     "output_type": "stream",
     "text": [
      "Overall Validation Metrics | Precision: 0.8653, Recall: 0.8653, F1: 0.8653\n",
      "Epoch 32/100 | Train Loss: 0.0013, Acc: 100.00% | Val Loss: 0.7057, Acc: 86.67% | F1: 0.8653, Prec: 0.8653, Rec: 0.8653\n"
     ]
    },
    {
     "name": "stderr",
     "output_type": "stream",
     "text": [
      "Epoch 33/100 [Training]: 100%|██████████| 8/8 [00:00<00:00, 56.02it/s, Loss=0.0006, Acc=100.00%]\n",
      "Epoch 33/100 [Validation]: 100%|██████████| 2/2 [00:00<00:00, 154.94it/s, Loss=0.6797, Acc=86.67%]\n"
     ]
    },
    {
     "name": "stdout",
     "output_type": "stream",
     "text": [
      "Overall Validation Metrics | Precision: 0.8653, Recall: 0.8653, F1: 0.8653\n",
      "Epoch 33/100 | Train Loss: 0.0012, Acc: 100.00% | Val Loss: 0.7282, Acc: 86.67% | F1: 0.8653, Prec: 0.8653, Rec: 0.8653\n"
     ]
    },
    {
     "name": "stderr",
     "output_type": "stream",
     "text": [
      "Epoch 34/100 [Training]: 100%|██████████| 8/8 [00:00<00:00, 58.33it/s, Loss=0.0006, Acc=100.00%]\n",
      "Epoch 34/100 [Validation]: 100%|██████████| 2/2 [00:00<00:00, 156.74it/s, Loss=0.6762, Acc=86.67%]\n"
     ]
    },
    {
     "name": "stdout",
     "output_type": "stream",
     "text": [
      "Overall Validation Metrics | Precision: 0.8653, Recall: 0.8653, F1: 0.8653\n",
      "Epoch 34/100 | Train Loss: 0.0011, Acc: 100.00% | Val Loss: 0.7245, Acc: 86.67% | F1: 0.8653, Prec: 0.8653, Rec: 0.8653\n"
     ]
    },
    {
     "name": "stderr",
     "output_type": "stream",
     "text": [
      "Epoch 35/100 [Training]: 100%|██████████| 8/8 [00:00<00:00, 61.99it/s, Loss=0.0005, Acc=100.00%]\n",
      "Epoch 35/100 [Validation]: 100%|██████████| 2/2 [00:00<00:00, 140.94it/s, Loss=0.6710, Acc=86.67%]\n"
     ]
    },
    {
     "name": "stdout",
     "output_type": "stream",
     "text": [
      "Overall Validation Metrics | Precision: 0.8653, Recall: 0.8653, F1: 0.8653\n",
      "Epoch 35/100 | Train Loss: 0.0010, Acc: 100.00% | Val Loss: 0.7189, Acc: 86.67% | F1: 0.8653, Prec: 0.8653, Rec: 0.8653\n"
     ]
    },
    {
     "name": "stderr",
     "output_type": "stream",
     "text": [
      "Epoch 36/100 [Training]: 100%|██████████| 8/8 [00:00<00:00, 66.71it/s, Loss=0.0005, Acc=100.00%]\n",
      "Epoch 36/100 [Validation]: 100%|██████████| 2/2 [00:00<00:00, 154.71it/s, Loss=0.6382, Acc=86.67%]\n"
     ]
    },
    {
     "name": "stdout",
     "output_type": "stream",
     "text": [
      "Overall Validation Metrics | Precision: 0.8653, Recall: 0.8653, F1: 0.8653\n",
      "Epoch 36/100 | Train Loss: 0.0009, Acc: 100.00% | Val Loss: 0.6838, Acc: 86.67% | F1: 0.8653, Prec: 0.8653, Rec: 0.8653\n"
     ]
    },
    {
     "name": "stderr",
     "output_type": "stream",
     "text": [
      "Epoch 37/100 [Training]: 100%|██████████| 8/8 [00:00<00:00, 60.22it/s, Loss=0.0005, Acc=100.00%]\n",
      "Epoch 37/100 [Validation]: 100%|██████████| 2/2 [00:00<00:00, 149.37it/s, Loss=0.6715, Acc=86.67%]\n"
     ]
    },
    {
     "name": "stdout",
     "output_type": "stream",
     "text": [
      "Overall Validation Metrics | Precision: 0.8653, Recall: 0.8653, F1: 0.8653\n",
      "Epoch 37/100 | Train Loss: 0.0009, Acc: 100.00% | Val Loss: 0.7195, Acc: 86.67% | F1: 0.8653, Prec: 0.8653, Rec: 0.8653\n"
     ]
    },
    {
     "name": "stderr",
     "output_type": "stream",
     "text": [
      "Epoch 38/100 [Training]: 100%|██████████| 8/8 [00:00<00:00, 61.94it/s, Loss=0.0004, Acc=100.00%]\n",
      "Epoch 38/100 [Validation]: 100%|██████████| 2/2 [00:00<00:00, 155.87it/s, Loss=0.7141, Acc=86.67%]\n"
     ]
    },
    {
     "name": "stdout",
     "output_type": "stream",
     "text": [
      "Overall Validation Metrics | Precision: 0.8653, Recall: 0.8653, F1: 0.8653\n",
      "Epoch 38/100 | Train Loss: 0.0008, Acc: 100.00% | Val Loss: 0.7651, Acc: 86.67% | F1: 0.8653, Prec: 0.8653, Rec: 0.8653\n"
     ]
    },
    {
     "name": "stderr",
     "output_type": "stream",
     "text": [
      "Epoch 39/100 [Training]: 100%|██████████| 8/8 [00:00<00:00, 64.63it/s, Loss=0.0004, Acc=100.00%]\n",
      "Epoch 39/100 [Validation]: 100%|██████████| 2/2 [00:00<00:00, 141.24it/s, Loss=0.7212, Acc=86.67%]\n"
     ]
    },
    {
     "name": "stdout",
     "output_type": "stream",
     "text": [
      "Overall Validation Metrics | Precision: 0.8653, Recall: 0.8653, F1: 0.8653\n",
      "Epoch 39/100 | Train Loss: 0.0008, Acc: 100.00% | Val Loss: 0.7727, Acc: 86.67% | F1: 0.8653, Prec: 0.8653, Rec: 0.8653\n"
     ]
    },
    {
     "name": "stderr",
     "output_type": "stream",
     "text": [
      "Epoch 40/100 [Training]: 100%|██████████| 8/8 [00:00<00:00, 59.14it/s, Loss=0.0004, Acc=100.00%]\n",
      "Epoch 40/100 [Validation]: 100%|██████████| 2/2 [00:00<00:00, 161.89it/s, Loss=0.7189, Acc=86.67%]\n"
     ]
    },
    {
     "name": "stdout",
     "output_type": "stream",
     "text": [
      "Overall Validation Metrics | Precision: 0.8653, Recall: 0.8653, F1: 0.8653\n",
      "Epoch 40/100 | Train Loss: 0.0008, Acc: 100.00% | Val Loss: 0.7703, Acc: 86.67% | F1: 0.8653, Prec: 0.8653, Rec: 0.8653\n"
     ]
    },
    {
     "name": "stderr",
     "output_type": "stream",
     "text": [
      "Epoch 41/100 [Training]: 100%|██████████| 8/8 [00:00<00:00, 66.51it/s, Loss=0.0004, Acc=100.00%]\n",
      "Epoch 41/100 [Validation]: 100%|██████████| 2/2 [00:00<00:00, 160.05it/s, Loss=0.7023, Acc=86.67%]\n"
     ]
    },
    {
     "name": "stdout",
     "output_type": "stream",
     "text": [
      "Overall Validation Metrics | Precision: 0.8653, Recall: 0.8653, F1: 0.8653\n",
      "Epoch 41/100 | Train Loss: 0.0007, Acc: 100.00% | Val Loss: 0.7525, Acc: 86.67% | F1: 0.8653, Prec: 0.8653, Rec: 0.8653\n"
     ]
    },
    {
     "name": "stderr",
     "output_type": "stream",
     "text": [
      "Epoch 42/100 [Training]: 100%|██████████| 8/8 [00:00<00:00, 59.88it/s, Loss=0.0004, Acc=100.00%]\n",
      "Epoch 42/100 [Validation]: 100%|██████████| 2/2 [00:00<00:00, 122.08it/s, Loss=0.7024, Acc=86.67%]\n"
     ]
    },
    {
     "name": "stdout",
     "output_type": "stream",
     "text": [
      "Overall Validation Metrics | Precision: 0.8653, Recall: 0.8653, F1: 0.8653\n",
      "Epoch 42/100 | Train Loss: 0.0007, Acc: 100.00% | Val Loss: 0.7526, Acc: 86.67% | F1: 0.8653, Prec: 0.8653, Rec: 0.8653\n"
     ]
    },
    {
     "name": "stderr",
     "output_type": "stream",
     "text": [
      "Epoch 43/100 [Training]: 100%|██████████| 8/8 [00:00<00:00, 66.84it/s, Loss=0.0004, Acc=100.00%]\n",
      "Epoch 43/100 [Validation]: 100%|██████████| 2/2 [00:00<00:00, 157.85it/s, Loss=0.7372, Acc=86.67%]\n"
     ]
    },
    {
     "name": "stdout",
     "output_type": "stream",
     "text": [
      "Overall Validation Metrics | Precision: 0.8653, Recall: 0.8653, F1: 0.8653\n",
      "Epoch 43/100 | Train Loss: 0.0007, Acc: 100.00% | Val Loss: 0.7899, Acc: 86.67% | F1: 0.8653, Prec: 0.8653, Rec: 0.8653\n"
     ]
    },
    {
     "name": "stderr",
     "output_type": "stream",
     "text": [
      "Epoch 44/100 [Training]: 100%|██████████| 8/8 [00:00<00:00, 62.77it/s, Loss=0.0003, Acc=100.00%]\n",
      "Epoch 44/100 [Validation]: 100%|██████████| 2/2 [00:00<00:00, 154.68it/s, Loss=0.7302, Acc=86.67%]\n"
     ]
    },
    {
     "name": "stdout",
     "output_type": "stream",
     "text": [
      "Overall Validation Metrics | Precision: 0.8653, Recall: 0.8653, F1: 0.8653\n",
      "Epoch 44/100 | Train Loss: 0.0006, Acc: 100.00% | Val Loss: 0.7824, Acc: 86.67% | F1: 0.8653, Prec: 0.8653, Rec: 0.8653\n"
     ]
    },
    {
     "name": "stderr",
     "output_type": "stream",
     "text": [
      "Epoch 45/100 [Training]: 100%|██████████| 8/8 [00:00<00:00, 64.91it/s, Loss=0.0003, Acc=100.00%]\n",
      "Epoch 45/100 [Validation]: 100%|██████████| 2/2 [00:00<00:00, 133.90it/s, Loss=0.7503, Acc=86.67%]\n"
     ]
    },
    {
     "name": "stdout",
     "output_type": "stream",
     "text": [
      "Overall Validation Metrics | Precision: 0.8653, Recall: 0.8653, F1: 0.8653\n",
      "Epoch 45/100 | Train Loss: 0.0006, Acc: 100.00% | Val Loss: 0.8039, Acc: 86.67% | F1: 0.8653, Prec: 0.8653, Rec: 0.8653\n"
     ]
    },
    {
     "name": "stderr",
     "output_type": "stream",
     "text": [
      "Epoch 46/100 [Training]: 100%|██████████| 8/8 [00:00<00:00, 63.10it/s, Loss=0.0003, Acc=100.00%]\n",
      "Epoch 46/100 [Validation]: 100%|██████████| 2/2 [00:00<00:00, 147.22it/s, Loss=0.7441, Acc=86.67%]\n"
     ]
    },
    {
     "name": "stdout",
     "output_type": "stream",
     "text": [
      "Overall Validation Metrics | Precision: 0.8653, Recall: 0.8653, F1: 0.8653\n",
      "Epoch 46/100 | Train Loss: 0.0006, Acc: 100.00% | Val Loss: 0.7972, Acc: 86.67% | F1: 0.8653, Prec: 0.8653, Rec: 0.8653\n"
     ]
    },
    {
     "name": "stderr",
     "output_type": "stream",
     "text": [
      "Epoch 47/100 [Training]: 100%|██████████| 8/8 [00:00<00:00, 53.75it/s, Loss=0.0003, Acc=100.00%]\n",
      "Epoch 47/100 [Validation]: 100%|██████████| 2/2 [00:00<00:00, 161.39it/s, Loss=0.7109, Acc=86.67%]\n"
     ]
    },
    {
     "name": "stdout",
     "output_type": "stream",
     "text": [
      "Overall Validation Metrics | Precision: 0.8653, Recall: 0.8653, F1: 0.8653\n",
      "Epoch 47/100 | Train Loss: 0.0006, Acc: 100.00% | Val Loss: 0.7617, Acc: 86.67% | F1: 0.8653, Prec: 0.8653, Rec: 0.8653\n"
     ]
    },
    {
     "name": "stderr",
     "output_type": "stream",
     "text": [
      "Epoch 48/100 [Training]: 100%|██████████| 8/8 [00:00<00:00, 63.25it/s, Loss=0.0003, Acc=100.00%]\n",
      "Epoch 48/100 [Validation]: 100%|██████████| 2/2 [00:00<00:00, 137.41it/s, Loss=0.7577, Acc=86.67%]\n"
     ]
    },
    {
     "name": "stdout",
     "output_type": "stream",
     "text": [
      "Overall Validation Metrics | Precision: 0.8653, Recall: 0.8653, F1: 0.8653\n",
      "Epoch 48/100 | Train Loss: 0.0005, Acc: 100.00% | Val Loss: 0.8118, Acc: 86.67% | F1: 0.8653, Prec: 0.8653, Rec: 0.8653\n"
     ]
    },
    {
     "name": "stderr",
     "output_type": "stream",
     "text": [
      "Epoch 49/100 [Training]: 100%|██████████| 8/8 [00:00<00:00, 64.32it/s, Loss=0.0003, Acc=100.00%]\n",
      "Epoch 49/100 [Validation]: 100%|██████████| 2/2 [00:00<00:00, 137.35it/s, Loss=0.7669, Acc=86.67%]\n"
     ]
    },
    {
     "name": "stdout",
     "output_type": "stream",
     "text": [
      "Overall Validation Metrics | Precision: 0.8653, Recall: 0.8653, F1: 0.8653\n",
      "Epoch 49/100 | Train Loss: 0.0005, Acc: 100.00% | Val Loss: 0.8217, Acc: 86.67% | F1: 0.8653, Prec: 0.8653, Rec: 0.8653\n"
     ]
    },
    {
     "name": "stderr",
     "output_type": "stream",
     "text": [
      "Epoch 50/100 [Training]: 100%|██████████| 8/8 [00:00<00:00, 71.93it/s, Loss=0.0003, Acc=100.00%]\n",
      "Epoch 50/100 [Validation]: 100%|██████████| 2/2 [00:00<00:00, 162.95it/s, Loss=0.7449, Acc=86.67%]\n"
     ]
    },
    {
     "name": "stdout",
     "output_type": "stream",
     "text": [
      "Overall Validation Metrics | Precision: 0.8653, Recall: 0.8653, F1: 0.8653\n",
      "Epoch 50/100 | Train Loss: 0.0005, Acc: 100.00% | Val Loss: 0.7981, Acc: 86.67% | F1: 0.8653, Prec: 0.8653, Rec: 0.8653\n"
     ]
    },
    {
     "name": "stderr",
     "output_type": "stream",
     "text": [
      "Epoch 51/100 [Training]: 100%|██████████| 8/8 [00:00<00:00, 66.73it/s, Loss=0.0002, Acc=100.00%]\n",
      "Epoch 51/100 [Validation]: 100%|██████████| 2/2 [00:00<00:00, 146.83it/s, Loss=0.7771, Acc=86.67%]\n"
     ]
    },
    {
     "name": "stdout",
     "output_type": "stream",
     "text": [
      "Overall Validation Metrics | Precision: 0.8653, Recall: 0.8653, F1: 0.8653\n",
      "Epoch 51/100 | Train Loss: 0.0005, Acc: 100.00% | Val Loss: 0.8326, Acc: 86.67% | F1: 0.8653, Prec: 0.8653, Rec: 0.8653\n"
     ]
    },
    {
     "name": "stderr",
     "output_type": "stream",
     "text": [
      "Epoch 52/100 [Training]: 100%|██████████| 8/8 [00:00<00:00, 67.85it/s, Loss=0.0002, Acc=100.00%]\n",
      "Epoch 52/100 [Validation]: 100%|██████████| 2/2 [00:00<00:00, 142.44it/s, Loss=0.7703, Acc=86.67%]\n"
     ]
    },
    {
     "name": "stdout",
     "output_type": "stream",
     "text": [
      "Overall Validation Metrics | Precision: 0.8653, Recall: 0.8653, F1: 0.8653\n",
      "Epoch 52/100 | Train Loss: 0.0004, Acc: 100.00% | Val Loss: 0.8254, Acc: 86.67% | F1: 0.8653, Prec: 0.8653, Rec: 0.8653\n"
     ]
    },
    {
     "name": "stderr",
     "output_type": "stream",
     "text": [
      "Epoch 53/100 [Training]: 100%|██████████| 8/8 [00:00<00:00, 73.80it/s, Loss=0.0002, Acc=100.00%]\n",
      "Epoch 53/100 [Validation]: 100%|██████████| 2/2 [00:00<00:00, 150.43it/s, Loss=0.7644, Acc=86.67%]\n"
     ]
    },
    {
     "name": "stdout",
     "output_type": "stream",
     "text": [
      "Overall Validation Metrics | Precision: 0.8653, Recall: 0.8653, F1: 0.8653\n",
      "Epoch 53/100 | Train Loss: 0.0004, Acc: 100.00% | Val Loss: 0.8190, Acc: 86.67% | F1: 0.8653, Prec: 0.8653, Rec: 0.8653\n"
     ]
    },
    {
     "name": "stderr",
     "output_type": "stream",
     "text": [
      "Epoch 54/100 [Training]: 100%|██████████| 8/8 [00:00<00:00, 68.70it/s, Loss=0.0002, Acc=100.00%]\n",
      "Epoch 54/100 [Validation]: 100%|██████████| 2/2 [00:00<00:00, 160.87it/s, Loss=0.8033, Acc=86.67%]\n"
     ]
    },
    {
     "name": "stdout",
     "output_type": "stream",
     "text": [
      "Overall Validation Metrics | Precision: 0.8653, Recall: 0.8653, F1: 0.8653\n",
      "Epoch 54/100 | Train Loss: 0.0004, Acc: 100.00% | Val Loss: 0.8607, Acc: 86.67% | F1: 0.8653, Prec: 0.8653, Rec: 0.8653\n"
     ]
    },
    {
     "name": "stderr",
     "output_type": "stream",
     "text": [
      "Epoch 55/100 [Training]: 100%|██████████| 8/8 [00:00<00:00, 67.71it/s, Loss=0.0002, Acc=100.00%]\n",
      "Epoch 55/100 [Validation]: 100%|██████████| 2/2 [00:00<00:00, 134.66it/s, Loss=0.8218, Acc=86.67%]\n"
     ]
    },
    {
     "name": "stdout",
     "output_type": "stream",
     "text": [
      "Overall Validation Metrics | Precision: 0.8653, Recall: 0.8653, F1: 0.8653\n",
      "Epoch 55/100 | Train Loss: 0.0004, Acc: 100.00% | Val Loss: 0.8805, Acc: 86.67% | F1: 0.8653, Prec: 0.8653, Rec: 0.8653\n"
     ]
    },
    {
     "name": "stderr",
     "output_type": "stream",
     "text": [
      "Epoch 56/100 [Training]: 100%|██████████| 8/8 [00:00<00:00, 64.68it/s, Loss=0.0002, Acc=100.00%]\n",
      "Epoch 56/100 [Validation]: 100%|██████████| 2/2 [00:00<00:00, 162.37it/s, Loss=0.8070, Acc=86.67%]\n"
     ]
    },
    {
     "name": "stdout",
     "output_type": "stream",
     "text": [
      "Overall Validation Metrics | Precision: 0.8653, Recall: 0.8653, F1: 0.8653\n",
      "Epoch 56/100 | Train Loss: 0.0004, Acc: 100.00% | Val Loss: 0.8647, Acc: 86.67% | F1: 0.8653, Prec: 0.8653, Rec: 0.8653\n"
     ]
    },
    {
     "name": "stderr",
     "output_type": "stream",
     "text": [
      "Epoch 57/100 [Training]: 100%|██████████| 8/8 [00:00<00:00, 65.08it/s, Loss=0.0002, Acc=100.00%]\n",
      "Epoch 57/100 [Validation]: 100%|██████████| 2/2 [00:00<00:00, 172.00it/s, Loss=0.8526, Acc=86.67%]\n"
     ]
    },
    {
     "name": "stdout",
     "output_type": "stream",
     "text": [
      "Overall Validation Metrics | Precision: 0.8653, Recall: 0.8653, F1: 0.8653\n",
      "Epoch 57/100 | Train Loss: 0.0004, Acc: 100.00% | Val Loss: 0.9135, Acc: 86.67% | F1: 0.8653, Prec: 0.8653, Rec: 0.8653\n"
     ]
    },
    {
     "name": "stderr",
     "output_type": "stream",
     "text": [
      "Epoch 58/100 [Training]: 100%|██████████| 8/8 [00:00<00:00, 63.70it/s, Loss=0.0002, Acc=100.00%]\n",
      "Epoch 58/100 [Validation]: 100%|██████████| 2/2 [00:00<00:00, 137.18it/s, Loss=0.8172, Acc=86.67%]\n"
     ]
    },
    {
     "name": "stdout",
     "output_type": "stream",
     "text": [
      "Overall Validation Metrics | Precision: 0.8653, Recall: 0.8653, F1: 0.8653\n",
      "Epoch 58/100 | Train Loss: 0.0004, Acc: 100.00% | Val Loss: 0.8756, Acc: 86.67% | F1: 0.8653, Prec: 0.8653, Rec: 0.8653\n"
     ]
    },
    {
     "name": "stderr",
     "output_type": "stream",
     "text": [
      "Epoch 59/100 [Training]: 100%|██████████| 8/8 [00:00<00:00, 63.78it/s, Loss=0.0002, Acc=100.00%]\n",
      "Epoch 59/100 [Validation]: 100%|██████████| 2/2 [00:00<00:00, 176.87it/s, Loss=0.7702, Acc=86.67%]\n"
     ]
    },
    {
     "name": "stdout",
     "output_type": "stream",
     "text": [
      "Overall Validation Metrics | Precision: 0.8653, Recall: 0.8653, F1: 0.8653\n",
      "Epoch 59/100 | Train Loss: 0.0004, Acc: 100.00% | Val Loss: 0.8252, Acc: 86.67% | F1: 0.8653, Prec: 0.8653, Rec: 0.8653\n"
     ]
    },
    {
     "name": "stderr",
     "output_type": "stream",
     "text": [
      "Epoch 60/100 [Training]: 100%|██████████| 8/8 [00:00<00:00, 70.91it/s, Loss=0.0002, Acc=100.00%]\n",
      "Epoch 60/100 [Validation]: 100%|██████████| 2/2 [00:00<00:00, 185.98it/s, Loss=0.7812, Acc=86.67%]\n"
     ]
    },
    {
     "name": "stdout",
     "output_type": "stream",
     "text": [
      "Overall Validation Metrics | Precision: 0.8653, Recall: 0.8653, F1: 0.8653\n",
      "Epoch 60/100 | Train Loss: 0.0003, Acc: 100.00% | Val Loss: 0.8370, Acc: 86.67% | F1: 0.8653, Prec: 0.8653, Rec: 0.8653\n"
     ]
    },
    {
     "name": "stderr",
     "output_type": "stream",
     "text": [
      "Epoch 61/100 [Training]: 100%|██████████| 8/8 [00:00<00:00, 58.53it/s, Loss=0.0002, Acc=100.00%]\n",
      "Epoch 61/100 [Validation]: 100%|██████████| 2/2 [00:00<00:00, 124.10it/s, Loss=0.8320, Acc=86.67%]\n"
     ]
    },
    {
     "name": "stdout",
     "output_type": "stream",
     "text": [
      "Overall Validation Metrics | Precision: 0.8653, Recall: 0.8653, F1: 0.8653\n",
      "Epoch 61/100 | Train Loss: 0.0003, Acc: 100.00% | Val Loss: 0.8914, Acc: 86.67% | F1: 0.8653, Prec: 0.8653, Rec: 0.8653\n"
     ]
    },
    {
     "name": "stderr",
     "output_type": "stream",
     "text": [
      "Epoch 62/100 [Training]: 100%|██████████| 8/8 [00:00<00:00, 62.94it/s, Loss=0.0002, Acc=100.00%]\n",
      "Epoch 62/100 [Validation]: 100%|██████████| 2/2 [00:00<00:00, 141.72it/s, Loss=0.8170, Acc=86.67%]\n"
     ]
    },
    {
     "name": "stdout",
     "output_type": "stream",
     "text": [
      "Overall Validation Metrics | Precision: 0.8653, Recall: 0.8653, F1: 0.8653\n",
      "Epoch 62/100 | Train Loss: 0.0003, Acc: 100.00% | Val Loss: 0.8754, Acc: 86.67% | F1: 0.8653, Prec: 0.8653, Rec: 0.8653\n"
     ]
    },
    {
     "name": "stderr",
     "output_type": "stream",
     "text": [
      "Epoch 63/100 [Training]: 100%|██████████| 8/8 [00:00<00:00, 65.81it/s, Loss=0.0002, Acc=100.00%]\n",
      "Epoch 63/100 [Validation]: 100%|██████████| 2/2 [00:00<00:00, 134.16it/s, Loss=0.8030, Acc=86.67%]\n"
     ]
    },
    {
     "name": "stdout",
     "output_type": "stream",
     "text": [
      "Overall Validation Metrics | Precision: 0.8653, Recall: 0.8653, F1: 0.8653\n",
      "Epoch 63/100 | Train Loss: 0.0003, Acc: 100.00% | Val Loss: 0.8604, Acc: 86.67% | F1: 0.8653, Prec: 0.8653, Rec: 0.8653\n"
     ]
    },
    {
     "name": "stderr",
     "output_type": "stream",
     "text": [
      "Epoch 64/100 [Training]: 100%|██████████| 8/8 [00:00<00:00, 62.69it/s, Loss=0.0002, Acc=100.00%]\n",
      "Epoch 64/100 [Validation]: 100%|██████████| 2/2 [00:00<00:00, 154.71it/s, Loss=0.7873, Acc=86.67%]\n"
     ]
    },
    {
     "name": "stdout",
     "output_type": "stream",
     "text": [
      "Overall Validation Metrics | Precision: 0.8653, Recall: 0.8653, F1: 0.8653\n",
      "Epoch 64/100 | Train Loss: 0.0003, Acc: 100.00% | Val Loss: 0.8436, Acc: 86.67% | F1: 0.8653, Prec: 0.8653, Rec: 0.8653\n"
     ]
    },
    {
     "name": "stderr",
     "output_type": "stream",
     "text": [
      "Epoch 65/100 [Training]: 100%|██████████| 8/8 [00:00<00:00, 61.61it/s, Loss=0.0002, Acc=100.00%]\n",
      "Epoch 65/100 [Validation]: 100%|██████████| 2/2 [00:00<00:00, 171.35it/s, Loss=0.8598, Acc=86.67%]\n"
     ]
    },
    {
     "name": "stdout",
     "output_type": "stream",
     "text": [
      "Overall Validation Metrics | Precision: 0.8653, Recall: 0.8653, F1: 0.8653\n",
      "Epoch 65/100 | Train Loss: 0.0003, Acc: 100.00% | Val Loss: 0.9212, Acc: 86.67% | F1: 0.8653, Prec: 0.8653, Rec: 0.8653\n"
     ]
    },
    {
     "name": "stderr",
     "output_type": "stream",
     "text": [
      "Epoch 66/100 [Training]: 100%|██████████| 8/8 [00:00<00:00, 62.34it/s, Loss=0.0002, Acc=100.00%]\n",
      "Epoch 66/100 [Validation]: 100%|██████████| 2/2 [00:00<00:00, 167.27it/s, Loss=0.8477, Acc=86.67%]\n"
     ]
    },
    {
     "name": "stdout",
     "output_type": "stream",
     "text": [
      "Overall Validation Metrics | Precision: 0.8653, Recall: 0.8653, F1: 0.8653\n",
      "Epoch 66/100 | Train Loss: 0.0003, Acc: 100.00% | Val Loss: 0.9083, Acc: 86.67% | F1: 0.8653, Prec: 0.8653, Rec: 0.8653\n"
     ]
    },
    {
     "name": "stderr",
     "output_type": "stream",
     "text": [
      "Epoch 67/100 [Training]: 100%|██████████| 8/8 [00:00<00:00, 70.85it/s, Loss=0.0002, Acc=100.00%]\n",
      "Epoch 67/100 [Validation]: 100%|██████████| 2/2 [00:00<00:00, 165.14it/s, Loss=0.8148, Acc=86.67%]\n"
     ]
    },
    {
     "name": "stdout",
     "output_type": "stream",
     "text": [
      "Overall Validation Metrics | Precision: 0.8653, Recall: 0.8653, F1: 0.8653\n",
      "Epoch 67/100 | Train Loss: 0.0003, Acc: 100.00% | Val Loss: 0.8730, Acc: 86.67% | F1: 0.8653, Prec: 0.8653, Rec: 0.8653\n"
     ]
    },
    {
     "name": "stderr",
     "output_type": "stream",
     "text": [
      "Epoch 68/100 [Training]: 100%|██████████| 8/8 [00:00<00:00, 61.54it/s, Loss=0.0002, Acc=100.00%]\n",
      "Epoch 68/100 [Validation]: 100%|██████████| 2/2 [00:00<00:00, 171.49it/s, Loss=0.8275, Acc=86.67%]\n"
     ]
    },
    {
     "name": "stdout",
     "output_type": "stream",
     "text": [
      "Overall Validation Metrics | Precision: 0.8653, Recall: 0.8653, F1: 0.8653\n",
      "Epoch 68/100 | Train Loss: 0.0003, Acc: 100.00% | Val Loss: 0.8866, Acc: 86.67% | F1: 0.8653, Prec: 0.8653, Rec: 0.8653\n"
     ]
    },
    {
     "name": "stderr",
     "output_type": "stream",
     "text": [
      "Epoch 69/100 [Training]: 100%|██████████| 8/8 [00:00<00:00, 62.29it/s, Loss=0.0001, Acc=100.00%]\n",
      "Epoch 69/100 [Validation]: 100%|██████████| 2/2 [00:00<00:00, 154.44it/s, Loss=0.8436, Acc=86.67%]\n"
     ]
    },
    {
     "name": "stdout",
     "output_type": "stream",
     "text": [
      "Overall Validation Metrics | Precision: 0.8653, Recall: 0.8653, F1: 0.8653\n",
      "Epoch 69/100 | Train Loss: 0.0003, Acc: 100.00% | Val Loss: 0.9039, Acc: 86.67% | F1: 0.8653, Prec: 0.8653, Rec: 0.8653\n"
     ]
    },
    {
     "name": "stderr",
     "output_type": "stream",
     "text": [
      "Epoch 70/100 [Training]: 100%|██████████| 8/8 [00:00<00:00, 69.76it/s, Loss=0.0001, Acc=100.00%]\n",
      "Epoch 70/100 [Validation]: 100%|██████████| 2/2 [00:00<00:00, 153.79it/s, Loss=0.8351, Acc=86.67%]\n"
     ]
    },
    {
     "name": "stdout",
     "output_type": "stream",
     "text": [
      "Overall Validation Metrics | Precision: 0.8653, Recall: 0.8653, F1: 0.8653\n",
      "Epoch 70/100 | Train Loss: 0.0003, Acc: 100.00% | Val Loss: 0.8947, Acc: 86.67% | F1: 0.8653, Prec: 0.8653, Rec: 0.8653\n"
     ]
    },
    {
     "name": "stderr",
     "output_type": "stream",
     "text": [
      "Epoch 71/100 [Training]: 100%|██████████| 8/8 [00:00<00:00, 72.86it/s, Loss=0.0001, Acc=100.00%]\n",
      "Epoch 71/100 [Validation]: 100%|██████████| 2/2 [00:00<00:00, 166.28it/s, Loss=0.7902, Acc=86.67%]\n"
     ]
    },
    {
     "name": "stdout",
     "output_type": "stream",
     "text": [
      "Overall Validation Metrics | Precision: 0.8653, Recall: 0.8653, F1: 0.8653\n",
      "Epoch 71/100 | Train Loss: 0.0003, Acc: 100.00% | Val Loss: 0.8466, Acc: 86.67% | F1: 0.8653, Prec: 0.8653, Rec: 0.8653\n"
     ]
    },
    {
     "name": "stderr",
     "output_type": "stream",
     "text": [
      "Epoch 72/100 [Training]: 100%|██████████| 8/8 [00:00<00:00, 69.75it/s, Loss=0.0001, Acc=100.00%]\n",
      "Epoch 72/100 [Validation]: 100%|██████████| 2/2 [00:00<00:00, 156.04it/s, Loss=0.8325, Acc=86.67%]\n"
     ]
    },
    {
     "name": "stdout",
     "output_type": "stream",
     "text": [
      "Overall Validation Metrics | Precision: 0.8653, Recall: 0.8653, F1: 0.8653\n",
      "Epoch 72/100 | Train Loss: 0.0002, Acc: 100.00% | Val Loss: 0.8919, Acc: 86.67% | F1: 0.8653, Prec: 0.8653, Rec: 0.8653\n"
     ]
    },
    {
     "name": "stderr",
     "output_type": "stream",
     "text": [
      "Epoch 73/100 [Training]: 100%|██████████| 8/8 [00:00<00:00, 63.13it/s, Loss=0.0001, Acc=100.00%]\n",
      "Epoch 73/100 [Validation]: 100%|██████████| 2/2 [00:00<00:00, 141.97it/s, Loss=0.8596, Acc=86.67%]\n"
     ]
    },
    {
     "name": "stdout",
     "output_type": "stream",
     "text": [
      "Overall Validation Metrics | Precision: 0.8653, Recall: 0.8653, F1: 0.8653\n",
      "Epoch 73/100 | Train Loss: 0.0002, Acc: 100.00% | Val Loss: 0.9210, Acc: 86.67% | F1: 0.8653, Prec: 0.8653, Rec: 0.8653\n"
     ]
    },
    {
     "name": "stderr",
     "output_type": "stream",
     "text": [
      "Epoch 74/100 [Training]: 100%|██████████| 8/8 [00:00<00:00, 66.33it/s, Loss=0.0001, Acc=100.00%]\n",
      "Epoch 74/100 [Validation]: 100%|██████████| 2/2 [00:00<00:00, 129.25it/s, Loss=0.8533, Acc=86.67%]\n"
     ]
    },
    {
     "name": "stdout",
     "output_type": "stream",
     "text": [
      "Overall Validation Metrics | Precision: 0.8653, Recall: 0.8653, F1: 0.8653\n",
      "Epoch 74/100 | Train Loss: 0.0002, Acc: 100.00% | Val Loss: 0.9142, Acc: 86.67% | F1: 0.8653, Prec: 0.8653, Rec: 0.8653\n"
     ]
    },
    {
     "name": "stderr",
     "output_type": "stream",
     "text": [
      "Epoch 75/100 [Training]: 100%|██████████| 8/8 [00:00<00:00, 57.81it/s, Loss=0.0001, Acc=100.00%]\n",
      "Epoch 75/100 [Validation]: 100%|██████████| 2/2 [00:00<00:00, 167.98it/s, Loss=0.8550, Acc=86.67%]\n"
     ]
    },
    {
     "name": "stdout",
     "output_type": "stream",
     "text": [
      "Overall Validation Metrics | Precision: 0.8653, Recall: 0.8653, F1: 0.8653\n",
      "Epoch 75/100 | Train Loss: 0.0002, Acc: 100.00% | Val Loss: 0.9161, Acc: 86.67% | F1: 0.8653, Prec: 0.8653, Rec: 0.8653\n"
     ]
    },
    {
     "name": "stderr",
     "output_type": "stream",
     "text": [
      "Epoch 76/100 [Training]: 100%|██████████| 8/8 [00:00<00:00, 69.01it/s, Loss=0.0001, Acc=100.00%]\n",
      "Epoch 76/100 [Validation]: 100%|██████████| 2/2 [00:00<00:00, 160.83it/s, Loss=0.8201, Acc=86.67%]\n"
     ]
    },
    {
     "name": "stdout",
     "output_type": "stream",
     "text": [
      "Overall Validation Metrics | Precision: 0.8653, Recall: 0.8653, F1: 0.8653\n",
      "Epoch 76/100 | Train Loss: 0.0002, Acc: 100.00% | Val Loss: 0.8787, Acc: 86.67% | F1: 0.8653, Prec: 0.8653, Rec: 0.8653\n"
     ]
    },
    {
     "name": "stderr",
     "output_type": "stream",
     "text": [
      "Epoch 77/100 [Training]: 100%|██████████| 8/8 [00:00<00:00, 65.98it/s, Loss=0.0001, Acc=100.00%]\n",
      "Epoch 77/100 [Validation]: 100%|██████████| 2/2 [00:00<00:00, 182.02it/s, Loss=0.8607, Acc=86.67%]\n"
     ]
    },
    {
     "name": "stdout",
     "output_type": "stream",
     "text": [
      "Overall Validation Metrics | Precision: 0.8653, Recall: 0.8653, F1: 0.8653\n",
      "Epoch 77/100 | Train Loss: 0.0002, Acc: 100.00% | Val Loss: 0.9221, Acc: 86.67% | F1: 0.8653, Prec: 0.8653, Rec: 0.8653\n"
     ]
    },
    {
     "name": "stderr",
     "output_type": "stream",
     "text": [
      "Epoch 78/100 [Training]: 100%|██████████| 8/8 [00:00<00:00, 63.22it/s, Loss=0.0001, Acc=100.00%]\n",
      "Epoch 78/100 [Validation]: 100%|██████████| 2/2 [00:00<00:00, 177.79it/s, Loss=0.8640, Acc=86.67%]\n"
     ]
    },
    {
     "name": "stdout",
     "output_type": "stream",
     "text": [
      "Overall Validation Metrics | Precision: 0.8653, Recall: 0.8653, F1: 0.8653\n",
      "Epoch 78/100 | Train Loss: 0.0002, Acc: 100.00% | Val Loss: 0.9257, Acc: 86.67% | F1: 0.8653, Prec: 0.8653, Rec: 0.8653\n"
     ]
    },
    {
     "name": "stderr",
     "output_type": "stream",
     "text": [
      "Epoch 79/100 [Training]: 100%|██████████| 8/8 [00:00<00:00, 62.42it/s, Loss=0.0001, Acc=100.00%]\n",
      "Epoch 79/100 [Validation]: 100%|██████████| 2/2 [00:00<00:00, 138.82it/s, Loss=0.8361, Acc=86.67%]\n"
     ]
    },
    {
     "name": "stdout",
     "output_type": "stream",
     "text": [
      "Overall Validation Metrics | Precision: 0.8653, Recall: 0.8653, F1: 0.8653\n",
      "Epoch 79/100 | Train Loss: 0.0002, Acc: 100.00% | Val Loss: 0.8958, Acc: 86.67% | F1: 0.8653, Prec: 0.8653, Rec: 0.8653\n"
     ]
    },
    {
     "name": "stderr",
     "output_type": "stream",
     "text": [
      "Epoch 80/100 [Training]: 100%|██████████| 8/8 [00:00<00:00, 65.27it/s, Loss=0.0001, Acc=100.00%]\n",
      "Epoch 80/100 [Validation]: 100%|██████████| 2/2 [00:00<00:00, 134.65it/s, Loss=0.8671, Acc=86.67%]\n"
     ]
    },
    {
     "name": "stdout",
     "output_type": "stream",
     "text": [
      "Overall Validation Metrics | Precision: 0.8653, Recall: 0.8653, F1: 0.8653\n",
      "Epoch 80/100 | Train Loss: 0.0002, Acc: 100.00% | Val Loss: 0.9291, Acc: 86.67% | F1: 0.8653, Prec: 0.8653, Rec: 0.8653\n"
     ]
    },
    {
     "name": "stderr",
     "output_type": "stream",
     "text": [
      "Epoch 81/100 [Training]: 100%|██████████| 8/8 [00:00<00:00, 64.82it/s, Loss=0.0001, Acc=100.00%]\n",
      "Epoch 81/100 [Validation]: 100%|██████████| 2/2 [00:00<00:00, 127.23it/s, Loss=0.8932, Acc=86.67%]\n"
     ]
    },
    {
     "name": "stdout",
     "output_type": "stream",
     "text": [
      "Overall Validation Metrics | Precision: 0.8653, Recall: 0.8653, F1: 0.8653\n",
      "Epoch 81/100 | Train Loss: 0.0002, Acc: 100.00% | Val Loss: 0.9570, Acc: 86.67% | F1: 0.8653, Prec: 0.8653, Rec: 0.8653\n"
     ]
    },
    {
     "name": "stderr",
     "output_type": "stream",
     "text": [
      "Epoch 82/100 [Training]: 100%|██████████| 8/8 [00:00<00:00, 63.21it/s, Loss=0.0001, Acc=100.00%]\n",
      "Epoch 82/100 [Validation]: 100%|██████████| 2/2 [00:00<00:00, 126.30it/s, Loss=0.8935, Acc=86.67%]\n"
     ]
    },
    {
     "name": "stdout",
     "output_type": "stream",
     "text": [
      "Overall Validation Metrics | Precision: 0.8653, Recall: 0.8653, F1: 0.8653\n",
      "Epoch 82/100 | Train Loss: 0.0002, Acc: 100.00% | Val Loss: 0.9573, Acc: 86.67% | F1: 0.8653, Prec: 0.8653, Rec: 0.8653\n"
     ]
    },
    {
     "name": "stderr",
     "output_type": "stream",
     "text": [
      "Epoch 83/100 [Training]: 100%|██████████| 8/8 [00:00<00:00, 68.75it/s, Loss=0.0001, Acc=100.00%]\n",
      "Epoch 83/100 [Validation]: 100%|██████████| 2/2 [00:00<00:00, 156.13it/s, Loss=0.8667, Acc=86.67%]\n"
     ]
    },
    {
     "name": "stdout",
     "output_type": "stream",
     "text": [
      "Overall Validation Metrics | Precision: 0.8653, Recall: 0.8653, F1: 0.8653\n",
      "Epoch 83/100 | Train Loss: 0.0002, Acc: 100.00% | Val Loss: 0.9286, Acc: 86.67% | F1: 0.8653, Prec: 0.8653, Rec: 0.8653\n"
     ]
    },
    {
     "name": "stderr",
     "output_type": "stream",
     "text": [
      "Epoch 84/100 [Training]: 100%|██████████| 8/8 [00:00<00:00, 70.49it/s, Loss=0.0001, Acc=100.00%]\n",
      "Epoch 84/100 [Validation]: 100%|██████████| 2/2 [00:00<00:00, 169.33it/s, Loss=0.8798, Acc=86.67%]\n"
     ]
    },
    {
     "name": "stdout",
     "output_type": "stream",
     "text": [
      "Overall Validation Metrics | Precision: 0.8653, Recall: 0.8653, F1: 0.8653\n",
      "Epoch 84/100 | Train Loss: 0.0002, Acc: 100.00% | Val Loss: 0.9427, Acc: 86.67% | F1: 0.8653, Prec: 0.8653, Rec: 0.8653\n"
     ]
    },
    {
     "name": "stderr",
     "output_type": "stream",
     "text": [
      "Epoch 85/100 [Training]: 100%|██████████| 8/8 [00:00<00:00, 67.57it/s, Loss=0.0001, Acc=100.00%]\n",
      "Epoch 85/100 [Validation]: 100%|██████████| 2/2 [00:00<00:00, 139.78it/s, Loss=0.8825, Acc=86.67%]\n"
     ]
    },
    {
     "name": "stdout",
     "output_type": "stream",
     "text": [
      "Overall Validation Metrics | Precision: 0.8653, Recall: 0.8653, F1: 0.8653\n",
      "Epoch 85/100 | Train Loss: 0.0002, Acc: 100.00% | Val Loss: 0.9455, Acc: 86.67% | F1: 0.8653, Prec: 0.8653, Rec: 0.8653\n"
     ]
    },
    {
     "name": "stderr",
     "output_type": "stream",
     "text": [
      "Epoch 86/100 [Training]: 100%|██████████| 8/8 [00:00<00:00, 64.22it/s, Loss=0.0001, Acc=100.00%]\n",
      "Epoch 86/100 [Validation]: 100%|██████████| 2/2 [00:00<00:00, 143.97it/s, Loss=0.8759, Acc=86.67%]\n"
     ]
    },
    {
     "name": "stdout",
     "output_type": "stream",
     "text": [
      "Overall Validation Metrics | Precision: 0.8653, Recall: 0.8653, F1: 0.8653\n",
      "Epoch 86/100 | Train Loss: 0.0002, Acc: 100.00% | Val Loss: 0.9384, Acc: 86.67% | F1: 0.8653, Prec: 0.8653, Rec: 0.8653\n"
     ]
    },
    {
     "name": "stderr",
     "output_type": "stream",
     "text": [
      "Epoch 87/100 [Training]: 100%|██████████| 8/8 [00:00<00:00, 62.11it/s, Loss=0.0001, Acc=100.00%]\n",
      "Epoch 87/100 [Validation]: 100%|██████████| 2/2 [00:00<00:00, 124.57it/s, Loss=0.8980, Acc=86.67%]\n"
     ]
    },
    {
     "name": "stdout",
     "output_type": "stream",
     "text": [
      "Overall Validation Metrics | Precision: 0.8653, Recall: 0.8653, F1: 0.8653\n",
      "Epoch 87/100 | Train Loss: 0.0002, Acc: 100.00% | Val Loss: 0.9621, Acc: 86.67% | F1: 0.8653, Prec: 0.8653, Rec: 0.8653\n"
     ]
    },
    {
     "name": "stderr",
     "output_type": "stream",
     "text": [
      "Epoch 88/100 [Training]: 100%|██████████| 8/8 [00:00<00:00, 52.85it/s, Loss=0.0001, Acc=100.00%]\n",
      "Epoch 88/100 [Validation]: 100%|██████████| 2/2 [00:00<00:00, 152.09it/s, Loss=0.8770, Acc=86.67%]\n"
     ]
    },
    {
     "name": "stdout",
     "output_type": "stream",
     "text": [
      "Overall Validation Metrics | Precision: 0.8653, Recall: 0.8653, F1: 0.8653\n",
      "Epoch 88/100 | Train Loss: 0.0002, Acc: 100.00% | Val Loss: 0.9397, Acc: 86.67% | F1: 0.8653, Prec: 0.8653, Rec: 0.8653\n"
     ]
    },
    {
     "name": "stderr",
     "output_type": "stream",
     "text": [
      "Epoch 89/100 [Training]: 100%|██████████| 8/8 [00:00<00:00, 59.99it/s, Loss=0.0001, Acc=100.00%]\n",
      "Epoch 89/100 [Validation]: 100%|██████████| 2/2 [00:00<00:00, 149.14it/s, Loss=0.9028, Acc=86.67%]\n"
     ]
    },
    {
     "name": "stdout",
     "output_type": "stream",
     "text": [
      "Overall Validation Metrics | Precision: 0.8653, Recall: 0.8653, F1: 0.8653\n",
      "Epoch 89/100 | Train Loss: 0.0002, Acc: 100.00% | Val Loss: 0.9673, Acc: 86.67% | F1: 0.8653, Prec: 0.8653, Rec: 0.8653\n"
     ]
    },
    {
     "name": "stderr",
     "output_type": "stream",
     "text": [
      "Epoch 90/100 [Training]: 100%|██████████| 8/8 [00:00<00:00, 52.31it/s, Loss=0.0001, Acc=100.00%]\n",
      "Epoch 90/100 [Validation]: 100%|██████████| 2/2 [00:00<00:00, 144.40it/s, Loss=0.9088, Acc=86.67%]\n"
     ]
    },
    {
     "name": "stdout",
     "output_type": "stream",
     "text": [
      "Overall Validation Metrics | Precision: 0.8653, Recall: 0.8653, F1: 0.8653\n",
      "Epoch 90/100 | Train Loss: 0.0002, Acc: 100.00% | Val Loss: 0.9737, Acc: 86.67% | F1: 0.8653, Prec: 0.8653, Rec: 0.8653\n"
     ]
    },
    {
     "name": "stderr",
     "output_type": "stream",
     "text": [
      "Epoch 91/100 [Training]: 100%|██████████| 8/8 [00:00<00:00, 62.26it/s, Loss=0.0001, Acc=100.00%]\n",
      "Epoch 91/100 [Validation]: 100%|██████████| 2/2 [00:00<00:00, 133.35it/s, Loss=0.9367, Acc=86.67%]\n"
     ]
    },
    {
     "name": "stdout",
     "output_type": "stream",
     "text": [
      "Overall Validation Metrics | Precision: 0.8653, Recall: 0.8653, F1: 0.8653\n",
      "Epoch 91/100 | Train Loss: 0.0002, Acc: 100.00% | Val Loss: 1.0036, Acc: 86.67% | F1: 0.8653, Prec: 0.8653, Rec: 0.8653\n"
     ]
    },
    {
     "name": "stderr",
     "output_type": "stream",
     "text": [
      "Epoch 92/100 [Training]: 100%|██████████| 8/8 [00:00<00:00, 60.87it/s, Loss=0.0001, Acc=100.00%]\n",
      "Epoch 92/100 [Validation]: 100%|██████████| 2/2 [00:00<00:00, 155.54it/s, Loss=0.8576, Acc=86.67%]\n"
     ]
    },
    {
     "name": "stdout",
     "output_type": "stream",
     "text": [
      "Overall Validation Metrics | Precision: 0.8653, Recall: 0.8653, F1: 0.8653\n",
      "Epoch 92/100 | Train Loss: 0.0002, Acc: 100.00% | Val Loss: 0.9189, Acc: 86.67% | F1: 0.8653, Prec: 0.8653, Rec: 0.8653\n"
     ]
    },
    {
     "name": "stderr",
     "output_type": "stream",
     "text": [
      "Epoch 93/100 [Training]: 100%|██████████| 8/8 [00:00<00:00, 62.70it/s, Loss=0.0001, Acc=100.00%]\n",
      "Epoch 93/100 [Validation]: 100%|██████████| 2/2 [00:00<00:00, 141.29it/s, Loss=0.9119, Acc=86.67%]\n"
     ]
    },
    {
     "name": "stdout",
     "output_type": "stream",
     "text": [
      "Overall Validation Metrics | Precision: 0.8653, Recall: 0.8653, F1: 0.8653\n",
      "Epoch 93/100 | Train Loss: 0.0002, Acc: 100.00% | Val Loss: 0.9770, Acc: 86.67% | F1: 0.8653, Prec: 0.8653, Rec: 0.8653\n"
     ]
    },
    {
     "name": "stderr",
     "output_type": "stream",
     "text": [
      "Epoch 94/100 [Training]: 100%|██████████| 8/8 [00:00<00:00, 62.24it/s, Loss=0.0001, Acc=100.00%]\n",
      "Epoch 94/100 [Validation]: 100%|██████████| 2/2 [00:00<00:00, 133.46it/s, Loss=0.9449, Acc=86.67%]\n"
     ]
    },
    {
     "name": "stdout",
     "output_type": "stream",
     "text": [
      "Overall Validation Metrics | Precision: 0.8653, Recall: 0.8653, F1: 0.8653\n",
      "Epoch 94/100 | Train Loss: 0.0001, Acc: 100.00% | Val Loss: 1.0124, Acc: 86.67% | F1: 0.8653, Prec: 0.8653, Rec: 0.8653\n"
     ]
    },
    {
     "name": "stderr",
     "output_type": "stream",
     "text": [
      "Epoch 95/100 [Training]: 100%|██████████| 8/8 [00:00<00:00, 42.32it/s, Loss=0.0001, Acc=100.00%]\n",
      "Epoch 95/100 [Validation]: 100%|██████████| 2/2 [00:00<00:00, 118.27it/s, Loss=0.9228, Acc=86.67%]\n"
     ]
    },
    {
     "name": "stdout",
     "output_type": "stream",
     "text": [
      "Overall Validation Metrics | Precision: 0.8653, Recall: 0.8653, F1: 0.8653\n",
      "Epoch 95/100 | Train Loss: 0.0001, Acc: 100.00% | Val Loss: 0.9887, Acc: 86.67% | F1: 0.8653, Prec: 0.8653, Rec: 0.8653\n"
     ]
    },
    {
     "name": "stderr",
     "output_type": "stream",
     "text": [
      "Epoch 96/100 [Training]: 100%|██████████| 8/8 [00:00<00:00, 64.57it/s, Loss=0.0001, Acc=100.00%]\n",
      "Epoch 96/100 [Validation]: 100%|██████████| 2/2 [00:00<00:00, 141.46it/s, Loss=0.8739, Acc=86.67%]\n"
     ]
    },
    {
     "name": "stdout",
     "output_type": "stream",
     "text": [
      "Overall Validation Metrics | Precision: 0.8653, Recall: 0.8653, F1: 0.8653\n",
      "Epoch 96/100 | Train Loss: 0.0001, Acc: 100.00% | Val Loss: 0.9363, Acc: 86.67% | F1: 0.8653, Prec: 0.8653, Rec: 0.8653\n"
     ]
    },
    {
     "name": "stderr",
     "output_type": "stream",
     "text": [
      "Epoch 97/100 [Training]: 100%|██████████| 8/8 [00:00<00:00, 64.20it/s, Loss=0.0001, Acc=100.00%]\n",
      "Epoch 97/100 [Validation]: 100%|██████████| 2/2 [00:00<00:00, 151.17it/s, Loss=0.9713, Acc=86.67%]\n"
     ]
    },
    {
     "name": "stdout",
     "output_type": "stream",
     "text": [
      "Overall Validation Metrics | Precision: 0.8653, Recall: 0.8653, F1: 0.8653\n",
      "Epoch 97/100 | Train Loss: 0.0001, Acc: 100.00% | Val Loss: 1.0406, Acc: 86.67% | F1: 0.8653, Prec: 0.8653, Rec: 0.8653\n"
     ]
    },
    {
     "name": "stderr",
     "output_type": "stream",
     "text": [
      "Epoch 98/100 [Training]: 100%|██████████| 8/8 [00:00<00:00, 56.80it/s, Loss=0.0001, Acc=100.00%]\n",
      "Epoch 98/100 [Validation]: 100%|██████████| 2/2 [00:00<00:00, 138.53it/s, Loss=0.8802, Acc=86.67%]\n"
     ]
    },
    {
     "name": "stdout",
     "output_type": "stream",
     "text": [
      "Overall Validation Metrics | Precision: 0.8653, Recall: 0.8653, F1: 0.8653\n",
      "Epoch 98/100 | Train Loss: 0.0001, Acc: 100.00% | Val Loss: 0.9430, Acc: 86.67% | F1: 0.8653, Prec: 0.8653, Rec: 0.8653\n"
     ]
    },
    {
     "name": "stderr",
     "output_type": "stream",
     "text": [
      "Epoch 99/100 [Training]: 100%|██████████| 8/8 [00:00<00:00, 55.98it/s, Loss=0.0001, Acc=100.00%]\n",
      "Epoch 99/100 [Validation]: 100%|██████████| 2/2 [00:00<00:00, 119.24it/s, Loss=0.9274, Acc=86.67%]\n"
     ]
    },
    {
     "name": "stdout",
     "output_type": "stream",
     "text": [
      "Overall Validation Metrics | Precision: 0.8653, Recall: 0.8653, F1: 0.8653\n",
      "Epoch 99/100 | Train Loss: 0.0001, Acc: 100.00% | Val Loss: 0.9936, Acc: 86.67% | F1: 0.8653, Prec: 0.8653, Rec: 0.8653\n"
     ]
    },
    {
     "name": "stderr",
     "output_type": "stream",
     "text": [
      "Epoch 100/100 [Training]: 100%|██████████| 8/8 [00:00<00:00, 48.81it/s, Loss=0.0001, Acc=100.00%]\n",
      "Epoch 100/100 [Validation]: 100%|██████████| 2/2 [00:00<00:00, 123.80it/s, Loss=0.9229, Acc=86.67%]\n"
     ]
    },
    {
     "name": "stdout",
     "output_type": "stream",
     "text": [
      "Overall Validation Metrics | Precision: 0.8653, Recall: 0.8653, F1: 0.8653\n",
      "Epoch 100/100 | Train Loss: 0.0001, Acc: 100.00% | Val Loss: 0.9888, Acc: 86.67% | F1: 0.8653, Prec: 0.8653, Rec: 0.8653\n"
     ]
    }
   ],
   "source": [
    "from model.LSTM import LSTMModel3, BidirectionalLSTMModel, GRUModel, LSTM_CNN_Model\n",
    "\n",
    "# For training\n",
    "model = LSTMModel3()\n",
    "model.train_model(data='data.yaml')"
   ]
  },
  {
   "cell_type": "code",
   "execution_count": 22,
   "metadata": {},
   "outputs": [
    {
     "name": "stderr",
     "output_type": "stream",
     "text": [
      "/home/rnd/Documents/Belajar/Nawatech/env/lib/python3.12/site-packages/torch/nn/modules/rnn.py:83: UserWarning: dropout option adds dropout after all but last recurrent layer, so non-zero dropout expects num_layers greater than 1, but got dropout=0.5 and num_layers=1\n",
      "  warnings.warn(\"dropout option adds dropout after all but last \"\n"
     ]
    },
    {
     "name": "stdout",
     "output_type": "stream",
     "text": [
      "Preprocessing the dataset...\n"
     ]
    },
    {
     "name": "stderr",
     "output_type": "stream",
     "text": [
      "Processing texts: 100%|██████████| 300/300 [00:00<00:00, 7809.51it/s]\n"
     ]
    },
    {
     "name": "stdout",
     "output_type": "stream",
     "text": [
      "encoded label : {0: 'positive', 1: 'negative'}\n",
      "Validation | Acc: 86.67% | F1: 0.8653, Prec: 0.8653, Rec: 0.8653\n"
     ]
    },
    {
     "name": "stderr",
     "output_type": "stream",
     "text": [
      "Processing texts: 100%|██████████| 1/1 [00:00<00:00, 4490.69it/s]\n"
     ]
    },
    {
     "data": {
      "text/plain": [
       "(1, 'negative', 0.9826542735099792)"
      ]
     },
     "execution_count": 22,
     "metadata": {},
     "output_type": "execute_result"
    }
   ],
   "source": [
    "model = LSTMModel3(weights='/home/rnd/Documents/Belajar/Nawatech/Case#1/DL_models/LSTM4/best.pt')\n",
    "model.valid('data.yaml')\n",
    "model.predict('gak mungkin orang gak suka provider ini')"
   ]
  },
  {
   "cell_type": "code",
   "execution_count": 14,
   "metadata": {},
   "outputs": [],
   "source": [
    "a = model.calculate_overall_metrics(preds=[1,1,0,1], targets=[1,1,1,1])"
   ]
  },
  {
   "cell_type": "code",
   "execution_count": 15,
   "metadata": {},
   "outputs": [
    {
     "data": {
      "text/plain": [
       "(1.0, 0.75, 0.8571428571428571)"
      ]
     },
     "execution_count": 15,
     "metadata": {},
     "output_type": "execute_result"
    }
   ],
   "source": [
    "a"
   ]
  },
  {
   "cell_type": "code",
   "execution_count": null,
   "metadata": {},
   "outputs": [],
   "source": []
  }
 ],
 "metadata": {
  "kernelspec": {
   "display_name": "env",
   "language": "python",
   "name": "python3"
  },
  "language_info": {
   "codemirror_mode": {
    "name": "ipython",
    "version": 3
   },
   "file_extension": ".py",
   "mimetype": "text/x-python",
   "name": "python",
   "nbconvert_exporter": "python",
   "pygments_lexer": "ipython3",
   "version": "3.12.3"
  }
 },
 "nbformat": 4,
 "nbformat_minor": 2
}
