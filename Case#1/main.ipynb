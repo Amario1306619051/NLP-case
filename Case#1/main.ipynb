{
 "cells": [
  {
   "cell_type": "markdown",
   "metadata": {},
   "source": [
    "# Eksplorasi Dataset"
   ]
  },
  {
   "cell_type": "code",
   "execution_count": 2,
   "metadata": {},
   "outputs": [
    {
     "name": "stderr",
     "output_type": "stream",
     "text": [
      "Processing texts: 100%|██████████| 300/300 [00:00<00:00, 8480.19it/s]\n"
     ]
    }
   ],
   "source": [
    "from Preprocessing.prepos_text import preprocess_dataframe\n",
    "\n",
    "\n",
    "dataset = preprocess_dataframe('/home/rnd/Downloads/dataset_tweet_sentiment_cellular_service_provider.csv',remove_special_char=True,\n",
    "                         remove_stopword=True, \n",
    "                         apply_stemming=True,\n",
    "                         URL=True,\n",
    "                         numbers=False,\n",
    "                         symbols=False,\n",
    "                         save_csv=True)"
   ]
  },
  {
   "cell_type": "code",
   "execution_count": 3,
   "metadata": {},
   "outputs": [
    {
     "data": {
      "text/plain": [
       "0      positive\n",
       "1      positive\n",
       "2      negative\n",
       "3      negative\n",
       "4      negative\n",
       "         ...   \n",
       "295    positive\n",
       "296    positive\n",
       "297    positive\n",
       "298    positive\n",
       "299    negative\n",
       "Name: Sentiment, Length: 300, dtype: object"
      ]
     },
     "execution_count": 3,
     "metadata": {},
     "output_type": "execute_result"
    }
   ],
   "source": [
    "dataset['Sentiment']"
   ]
  },
  {
   "cell_type": "code",
   "execution_count": 4,
   "metadata": {},
   "outputs": [],
   "source": [
    "label_dict = {label: idx for idx, label in enumerate(dataset['Sentiment'].unique())}\n",
    "labels = dataset['Sentiment'].map(label_dict).fillna(-1).astype(int).values\n",
    "label_dict = {idx: label for label, idx in label_dict.items()}"
   ]
  },
  {
   "cell_type": "code",
   "execution_count": 5,
   "metadata": {},
   "outputs": [
    {
     "data": {
      "text/plain": [
       "{0: 'positive', 1: 'negative'}"
      ]
     },
     "execution_count": 5,
     "metadata": {},
     "output_type": "execute_result"
    }
   ],
   "source": [
    "label_dict"
   ]
  },
  {
   "cell_type": "code",
   "execution_count": 6,
   "metadata": {},
   "outputs": [
    {
     "data": {
      "text/plain": [
       "array([0, 0, 1, 1, 1, 1, 0, 1, 1, 1, 1, 1, 1, 1, 1, 1, 0, 1, 1, 1, 1, 1,\n",
       "       0, 0, 1, 1, 1, 1, 1, 1, 1, 1, 0, 0, 1, 1, 1, 1, 1, 1, 1, 0, 0, 1,\n",
       "       0, 0, 0, 1, 1, 1, 0, 1, 1, 1, 1, 1, 1, 1, 0, 0, 1, 1, 1, 1, 1, 1,\n",
       "       0, 1, 1, 0, 1, 1, 1, 1, 0, 0, 0, 0, 1, 0, 1, 0, 1, 0, 0, 0, 0, 0,\n",
       "       1, 1, 1, 1, 1, 1, 1, 1, 0, 1, 0, 0, 1, 0, 0, 1, 1, 1, 1, 1, 1, 0,\n",
       "       0, 0, 0, 0, 0, 0, 0, 0, 0, 0, 0, 0, 0, 0, 0, 0, 0, 0, 0, 0, 0, 0,\n",
       "       0, 0, 0, 0, 0, 0, 0, 0, 0, 0, 0, 0, 0, 0, 0, 0, 0, 0, 0, 0, 1, 1,\n",
       "       1, 1, 1, 1, 0, 1, 1, 0, 0, 0, 1, 1, 1, 1, 1, 1, 0, 0, 0, 1, 1, 1,\n",
       "       1, 0, 0, 1, 1, 0, 0, 0, 0, 1, 1, 1, 1, 1, 1, 1, 0, 0, 1, 1, 1, 0,\n",
       "       0, 0, 0, 0, 0, 0, 0, 0, 0, 0, 0, 0, 0, 0, 1, 1, 1, 1, 1, 1, 0, 1,\n",
       "       0, 1, 0, 1, 0, 1, 1, 1, 1, 1, 1, 1, 1, 0, 0, 0, 0, 0, 0, 0, 0, 0,\n",
       "       0, 0, 0, 1, 1, 1, 0, 1, 1, 0, 1, 1, 1, 1, 1, 1, 1, 1, 1, 1, 1, 1,\n",
       "       1, 1, 1, 1, 1, 1, 1, 0, 1, 1, 1, 1, 1, 1, 0, 1, 1, 1, 1, 1, 1, 1,\n",
       "       1, 0, 0, 0, 0, 0, 0, 0, 0, 0, 0, 0, 0, 1])"
      ]
     },
     "execution_count": 6,
     "metadata": {},
     "output_type": "execute_result"
    }
   ],
   "source": [
    "labels"
   ]
  },
  {
   "cell_type": "code",
   "execution_count": 7,
   "metadata": {},
   "outputs": [
    {
     "data": {
      "text/plain": [
       "{0: 'positive', 1: 'negative'}"
      ]
     },
     "execution_count": 7,
     "metadata": {},
     "output_type": "execute_result"
    }
   ],
   "source": [
    "label_dict"
   ]
  },
  {
   "cell_type": "code",
   "execution_count": 8,
   "metadata": {},
   "outputs": [],
   "source": [
    "from Preprocessing.split import split_dataset\n",
    "train_texts, test_texts, train_labels, test_labels = split_dataset(texts=dataset['processed_text'].values, labels=labels, test_size=0.2)"
   ]
  },
  {
   "cell_type": "code",
   "execution_count": 10,
   "metadata": {},
   "outputs": [],
   "source": [
    "from dataloader.dataloader import build_dataloader\n",
    "from util import vocabularize, nltk_tokenizer\n",
    "\n",
    "\n",
    "vocab = vocabularize(\n",
    "    texts=dataset['processed_text'].values\n",
    ")\n",
    "train_dataloader = build_dataloader(\n",
    "    texts=train_texts,\n",
    "    labels=train_labels,\n",
    "    tokenizer=nltk_tokenizer,\n",
    "    vocab=vocab,\n",
    "    batch_size=32\n",
    ")\n",
    "\n",
    "val_dataloader = build_dataloader(\n",
    "    texts=test_texts,\n",
    "    labels=test_labels,\n",
    "    tokenizer=nltk_tokenizer,\n",
    "    vocab=vocab,\n",
    "    batch_size=32\n",
    ")"
   ]
  },
  {
   "cell_type": "code",
   "execution_count": 15,
   "metadata": {},
   "outputs": [
    {
     "data": {
      "text/plain": [
       "(['nih akses data camat cisewu kabupaten garut 4g',\n",
       "  'kualitas layan buruk 5 lapor tindak baik providername',\n",
       "  'selamat pagi providername bantu kamar sinyal 4g hilang 1 panggil darurat url',\n",
       "  'rt otheruser providername providername jaring 4g nya penuh ga konek internet',\n",
       "  'sinyal ping game aja gede sinyal tai providername',\n",
       "  'pindah provider kali ya internetan lot dengar teman si bagus providername providername',\n",
       "  'makan malam gratis hasil tuker providername poin providername url',\n",
       "  'santai pakai providername providername4g providernamebagiberkah andal',\n",
       "  'terima kasih providername providername',\n",
       "  'nikmat dapat guna providername tonton youtube gratis tahun',\n",
       "  'kualitas sinyal 4g providername lengkap riah festival',\n",
       "  'nonton gratis dibayarin providername poin providername providernamepoin',\n",
       "  'sakti alhamdulillah v providername',\n",
       "  'sinyal providername hebat puncak halimun on mantap',\n",
       "  'buka puasa streaming youtube lancar banget pakai providername setia providername',\n",
       "  'pindah providername bukti',\n",
       "  'isi kuota 2 menit langsung habis kacau providername url',\n",
       "  'yuk pakai providername rp1 gratis 1gb',\n",
       "  'providername daerah udah 3 trouble mulu',\n",
       "  'providername ga sesuai iklan',\n",
       "  'pakai providername pakai providername rasa providernamelemot providernamemahal bareng kualitas',\n",
       "  'rasa segitu besar ping 36604 ribu lumayan bukber providername providername',\n",
       "  'ayo pakai kartu providername buang got ya',\n",
       "  'internet mahal turun harga paket providername',\n",
       "  'providername tarif mahal sinyal parah',\n",
       "  'jaring internet providername sumba timur parah',\n",
       "  'tethering pakai kartu providername sinyal kencang badai browsing cari bahan artikel jamin lancar',\n",
       "  'minggu masuk kerja gak dikerjain ujung2nya cari lapak rebah denger musik youtube providername top deh',\n",
       "  'terimakasih paket data aktif normal terimakasih providername puas layan providername providername',\n",
       "  'mantap providername url',\n",
       "  'aman providername tingkat bikin rugi langgan aja url',\n",
       "  'nulis serta hashtag providernamelemot hidup mana sih ungar pakai providername lancar2 aja tuh'],\n",
       " tensor([[ 60, 312,  21, 370, 377, 479, 421,   7,   1,   1,   1,   1,   1,   1,\n",
       "            1],\n",
       "         [ 56,  57, 121, 303, 521, 697,  54,   2,   1,   1,   1,   1,   1,   1,\n",
       "            1],\n",
       "         [101, 143,   2, 117, 483,   5,   7,  69,  52, 603, 388,   3,   1,   1,\n",
       "            1],\n",
       "         [ 50,  14,   2,   2,   6,   7,  38,  98,  29, 509,  16,   1,   1,   1,\n",
       "            1],\n",
       "         [  5, 237, 420,  23, 422,   5, 104,   2,   1,   1,   1,   1,   1,   1,\n",
       "            1],\n",
       "         [145,  78, 204,  19,  91,  31, 177, 157, 251,  39,   2,   2,   1,   1,\n",
       "            1],\n",
       "         [ 96,  49,  12, 191, 709,   2,  77,   2,   3,   1,   1,   1,   1,   1,\n",
       "            1],\n",
       "         [644,   4,   2, 617, 619, 320,   1,   1,   1,   1,   1,   1,   1,   1,\n",
       "            1],\n",
       "         [263, 205,   2,   2,   1,   1,   1,   1,   1,   1,   1,   1,   1,   1,\n",
       "            1],\n",
       "         [581, 387, 189,   2, 266,  24,  12, 156,   1,   1,   1,   1,   1,   1,\n",
       "            1],\n",
       "         [ 56,   5,   7,   2, 526, 244, 413,   1,   1,   1,   1,   1,   1,   1,\n",
       "            1],\n",
       "         [141,  12, 178,   2,  77,   2, 241,   1,   1,   1,   1,   1,   1,   1,\n",
       "            1],\n",
       "         [639,  20, 108,   2,   1,   1,   1,   1,   1,   1,   1,   1,   1,   1,\n",
       "            1],\n",
       "         [  5,   2, 192, 626, 439, 593,  43,   1,   1,   1,   1,   1,   1,   1,\n",
       "            1],\n",
       "         [ 86,  99, 103,  24,  13,  15,   4,   2,  62,   2,   1,   1,   1,   1,\n",
       "            1],\n",
       "         [145,   2, 173,   1,   1,   1,   1,   1,   1,   1,   1,   1,   1,   1,\n",
       "            1],\n",
       "         [ 42,  11,  53,  97,  73,  37, 203,   2,   3,   1,   1,   1,   1,   1,\n",
       "            1],\n",
       "         [735,   4,   2, 245,  12,  82,   1,   1,   1,   1,   1,   1,   1,   1,\n",
       "            1],\n",
       "         [  2,  68,  45, 111, 267, 225,   1,   1,   1,   1,   1,   1,   1,   1,\n",
       "            1],\n",
       "         [  2,  29, 653,  70,   1,   1,   1,   1,   1,   1,   1,   1,   1,   1,\n",
       "            1],\n",
       "         [  4,   2,   4,   2, 242, 240, 149, 340,  56,   1,   1,   1,   1,   1,\n",
       "            1],\n",
       "         [242, 647, 357, 237, 299, 150,  95, 365,   2,   2,   1,   1,   1,   1,\n",
       "            1],\n",
       "         [ 35,   4,  25,   2,  40, 431,  19,   1,   1,   1,   1,   1,   1,   1,\n",
       "            1],\n",
       "         [ 16,  22, 269,  89,  17,   2,   1,   1,   1,   1,   1,   1,   1,   1,\n",
       "            1],\n",
       "         [  2, 105,  22,   5,  44,   1,   1,   1,   1,   1,   1,   1,   1,   1,\n",
       "            1],\n",
       "         [  6,  16,   2, 257, 158,  44,   1,   1,   1,   1,   1,   1,   1,   1,\n",
       "            1],\n",
       "         [693,   4,  25,   2,   5,  55, 332, 363,  87, 334, 328, 466,  13,   1,\n",
       "            1],\n",
       "         [ 74, 219,  72,   8, 398, 714,  87, 520, 630, 391, 226,  24,   2, 702,\n",
       "          124],\n",
       "         [ 33,  17,  21, 165, 585,  33,   2, 624,  57,   2,   2,   1,   1,   1,\n",
       "            1],\n",
       "         [ 43,   2,   3,   1,   1,   1,   1,   1,   1,   1,   1,   1,   1,   1,\n",
       "            1],\n",
       "         [115,   2, 698,  28, 100,  94,  23,   3,   1,   1,   1,   1,   1,   1,\n",
       "            1],\n",
       "         [586, 250, 443, 240, 446, 218,  63, 716,   4,   2, 518,  23, 705,   1,\n",
       "            1]]),\n",
       " tensor([1, 1, 1, 1, 1, 0, 0, 0, 0, 0, 0, 0, 0, 0, 0, 0, 1, 0, 1, 1, 0, 0, 1, 1,\n",
       "         1, 1, 0, 0, 0, 0, 1, 0]))"
      ]
     },
     "execution_count": 15,
     "metadata": {},
     "output_type": "execute_result"
    }
   ],
   "source": [
    "next(iter(train_dataloader))"
   ]
  },
  {
   "cell_type": "code",
   "execution_count": 11,
   "metadata": {},
   "outputs": [
    {
     "data": {
      "text/plain": [
       "['positive', 'negative']"
      ]
     },
     "execution_count": 11,
     "metadata": {},
     "output_type": "execute_result"
    }
   ],
   "source": [
    "dataset['Sentiment'].unique().tolist()"
   ]
  },
  {
   "cell_type": "code",
   "execution_count": 12,
   "metadata": {},
   "outputs": [],
   "source": [
    "from model.LSTM import LSTMModel3, BidirectionalLSTMModel, GRUModel, LSTM_CNN_Model\n",
    "import torch.nn as nn\n",
    "from torch import optim\n",
    "\n",
    "criterion = nn.CrossEntropyLoss()\n"
   ]
  },
  {
   "cell_type": "code",
   "execution_count": 12,
   "metadata": {},
   "outputs": [
    {
     "data": {
      "text/plain": [
       "(0, 'positive', 0.5168493986129761)"
      ]
     },
     "execution_count": 12,
     "metadata": {},
     "output_type": "execute_result"
    }
   ],
   "source": [
    "model = LSTM_CNN_Model(weights='/home/rnd/Documents/Belajar/Nawatech/Case#1/DL_models/LSTM_CNN_Model/best.pt')\n",
    "model.predict('cakep banget woy sukaa')"
   ]
  },
  {
   "cell_type": "code",
   "execution_count": 13,
   "metadata": {},
   "outputs": [
    {
     "name": "stdout",
     "output_type": "stream",
     "text": [
      "Validation | Acc: 86.67% | F1: 0.8653, Prec: 0.8653, Rec: 0.8653\n"
     ]
    },
    {
     "data": {
      "text/plain": [
       "{'accuracy': 86.66666666666667,\n",
       " 'precision': 0.8653198653198653,\n",
       " 'recall': 0.8653198653198653,\n",
       " 'f1_score': 0.8653198653198653}"
      ]
     },
     "execution_count": 13,
     "metadata": {},
     "output_type": "execute_result"
    }
   ],
   "source": [
    "model.valid(val_dataloader)"
   ]
  },
  {
   "cell_type": "code",
   "execution_count": 2,
   "metadata": {},
   "outputs": [
    {
     "name": "stdout",
     "output_type": "stream",
     "text": [
      "Preprocessing the dataset...\n"
     ]
    },
    {
     "name": "stderr",
     "output_type": "stream",
     "text": [
      "Processing texts: 100%|██████████| 300/300 [00:16<00:00, 17.78it/s]\n"
     ]
    },
    {
     "name": "stdout",
     "output_type": "stream",
     "text": [
      "encoded label : {0: 'positive', 1: 'negative'}\n"
     ]
    },
    {
     "name": "stderr",
     "output_type": "stream",
     "text": [
      "/home/rnd/Documents/Belajar/Nawatech/env/lib/python3.12/site-packages/tqdm/auto.py:21: TqdmWarning: IProgress not found. Please update jupyter and ipywidgets. See https://ipywidgets.readthedocs.io/en/stable/user_install.html\n",
      "  from .autonotebook import tqdm as notebook_tqdm\n",
      "Epoch 1/100 [Training]: 100%|██████████| 8/8 [00:01<00:00,  4.11it/s, Loss=0.3709, Acc=53.33%]\n",
      "Epoch 1/100 [Validation]: 100%|██████████| 2/2 [00:00<00:00, 123.18it/s, Loss=0.6443, Acc=55.00%]\n"
     ]
    },
    {
     "name": "stdout",
     "output_type": "stream",
     "text": [
      "Epoch 1/100 | Train Loss: 0.6954, Acc: 53.33% | Val Loss: 0.6903, Acc: 55.00% | F1: 0.3548, Prec: 0.2750, Rec: 0.5000\n"
     ]
    },
    {
     "name": "stderr",
     "output_type": "stream",
     "text": [
      "Epoch 2/100 [Training]: 100%|██████████| 8/8 [00:00<00:00, 43.14it/s, Loss=0.3679, Acc=53.33%]\n",
      "Epoch 2/100 [Validation]: 100%|██████████| 2/2 [00:00<00:00, 113.38it/s, Loss=0.6485, Acc=53.33%]\n"
     ]
    },
    {
     "name": "stdout",
     "output_type": "stream",
     "text": [
      "Epoch 2/100 | Train Loss: 0.6899, Acc: 53.33% | Val Loss: 0.6948, Acc: 53.33% | F1: 0.3478, Prec: 0.2712, Rec: 0.4848\n"
     ]
    },
    {
     "name": "stderr",
     "output_type": "stream",
     "text": [
      "Epoch 3/100 [Training]: 100%|██████████| 8/8 [00:00<00:00, 48.19it/s, Loss=0.3580, Acc=64.17%]\n",
      "Epoch 3/100 [Validation]: 100%|██████████| 2/2 [00:00<00:00, 121.57it/s, Loss=0.6485, Acc=53.33%]\n"
     ]
    },
    {
     "name": "stdout",
     "output_type": "stream",
     "text": [
      "Epoch 3/100 | Train Loss: 0.6712, Acc: 64.17% | Val Loss: 0.6949, Acc: 53.33% | F1: 0.5200, Prec: 0.5229, Rec: 0.5219\n"
     ]
    },
    {
     "name": "stderr",
     "output_type": "stream",
     "text": [
      "Epoch 4/100 [Training]: 100%|██████████| 8/8 [00:00<00:00, 50.65it/s, Loss=0.2548, Acc=81.25%]\n",
      "Epoch 4/100 [Validation]: 100%|██████████| 2/2 [00:00<00:00, 111.10it/s, Loss=0.5178, Acc=78.33%]\n"
     ]
    },
    {
     "name": "stdout",
     "output_type": "stream",
     "text": [
      "Epoch 4/100 | Train Loss: 0.4778, Acc: 81.25% | Val Loss: 0.5548, Acc: 78.33% | F1: 0.7758, Prec: 0.7907, Rec: 0.7727\n"
     ]
    },
    {
     "name": "stderr",
     "output_type": "stream",
     "text": [
      "Epoch 5/100 [Training]: 100%|██████████| 8/8 [00:00<00:00, 46.67it/s, Loss=0.1688, Acc=91.67%]\n",
      "Epoch 5/100 [Validation]: 100%|██████████| 2/2 [00:00<00:00, 110.38it/s, Loss=0.7768, Acc=76.67%]\n"
     ]
    },
    {
     "name": "stdout",
     "output_type": "stream",
     "text": [
      "Epoch 5/100 | Train Loss: 0.3165, Acc: 91.67% | Val Loss: 0.8322, Acc: 76.67% | F1: 0.7532, Prec: 0.7869, Rec: 0.7508\n"
     ]
    },
    {
     "name": "stderr",
     "output_type": "stream",
     "text": [
      "Epoch 6/100 [Training]: 100%|██████████| 8/8 [00:00<00:00, 50.93it/s, Loss=0.1443, Acc=93.75%]\n",
      "Epoch 6/100 [Validation]: 100%|██████████| 2/2 [00:00<00:00, 119.86it/s, Loss=0.8710, Acc=75.00%]\n"
     ]
    },
    {
     "name": "stdout",
     "output_type": "stream",
     "text": [
      "Epoch 6/100 | Train Loss: 0.2705, Acc: 93.75% | Val Loss: 0.9332, Acc: 75.00% | F1: 0.7466, Prec: 0.8000, Rec: 0.7694\n"
     ]
    },
    {
     "name": "stderr",
     "output_type": "stream",
     "text": [
      "Epoch 7/100 [Training]: 100%|██████████| 8/8 [00:00<00:00, 53.31it/s, Loss=0.1305, Acc=92.92%]\n",
      "Epoch 7/100 [Validation]: 100%|██████████| 2/2 [00:00<00:00, 112.98it/s, Loss=0.5656, Acc=81.67%]\n"
     ]
    },
    {
     "name": "stdout",
     "output_type": "stream",
     "text": [
      "Epoch 7/100 | Train Loss: 0.2446, Acc: 92.92% | Val Loss: 0.6060, Acc: 81.67% | F1: 0.8044, Prec: 0.8532, Rec: 0.7997\n"
     ]
    },
    {
     "name": "stderr",
     "output_type": "stream",
     "text": [
      "Epoch 8/100 [Training]: 100%|██████████| 8/8 [00:00<00:00, 52.96it/s, Loss=0.0970, Acc=96.67%]\n",
      "Epoch 8/100 [Validation]: 100%|██████████| 2/2 [00:00<00:00, 117.83it/s, Loss=0.5664, Acc=76.67%]\n"
     ]
    },
    {
     "name": "stdout",
     "output_type": "stream",
     "text": [
      "Epoch 8/100 | Train Loss: 0.1819, Acc: 96.67% | Val Loss: 0.6069, Acc: 76.67% | F1: 0.7600, Prec: 0.7697, Rec: 0.7576\n"
     ]
    },
    {
     "name": "stderr",
     "output_type": "stream",
     "text": [
      "Epoch 9/100 [Training]: 100%|██████████| 8/8 [00:00<00:00, 57.49it/s, Loss=0.0539, Acc=98.33%]\n",
      "Epoch 9/100 [Validation]: 100%|██████████| 2/2 [00:00<00:00, 118.91it/s, Loss=0.4675, Acc=83.33%]\n"
     ]
    },
    {
     "name": "stdout",
     "output_type": "stream",
     "text": [
      "Epoch 9/100 | Train Loss: 0.1010, Acc: 98.33% | Val Loss: 0.5009, Acc: 83.33% | F1: 0.8326, Prec: 0.8320, Rec: 0.8350\n"
     ]
    },
    {
     "name": "stderr",
     "output_type": "stream",
     "text": [
      "Epoch 10/100 [Training]: 100%|██████████| 8/8 [00:00<00:00, 50.57it/s, Loss=0.0188, Acc=99.58%]\n",
      "Epoch 10/100 [Validation]: 100%|██████████| 2/2 [00:00<00:00, 123.07it/s, Loss=0.5676, Acc=81.67%]\n"
     ]
    },
    {
     "name": "stdout",
     "output_type": "stream",
     "text": [
      "Epoch 10/100 | Train Loss: 0.0353, Acc: 99.58% | Val Loss: 0.6082, Acc: 81.67% | F1: 0.8124, Prec: 0.8194, Rec: 0.8098\n"
     ]
    },
    {
     "name": "stderr",
     "output_type": "stream",
     "text": [
      "Epoch 11/100 [Training]: 100%|██████████| 8/8 [00:00<00:00, 51.56it/s, Loss=0.0155, Acc=99.58%]\n",
      "Epoch 11/100 [Validation]: 100%|██████████| 2/2 [00:00<00:00, 111.30it/s, Loss=0.5317, Acc=85.00%]\n"
     ]
    },
    {
     "name": "stdout",
     "output_type": "stream",
     "text": [
      "Epoch 11/100 | Train Loss: 0.0291, Acc: 99.58% | Val Loss: 0.5697, Acc: 85.00% | F1: 0.8465, Prec: 0.8542, Rec: 0.8434\n"
     ]
    },
    {
     "name": "stderr",
     "output_type": "stream",
     "text": [
      "Epoch 12/100 [Training]: 100%|██████████| 8/8 [00:00<00:00, 49.97it/s, Loss=0.0036, Acc=100.00%]\n",
      "Epoch 12/100 [Validation]: 100%|██████████| 2/2 [00:00<00:00, 119.98it/s, Loss=0.5727, Acc=85.00%]\n"
     ]
    },
    {
     "name": "stdout",
     "output_type": "stream",
     "text": [
      "Epoch 12/100 | Train Loss: 0.0067, Acc: 100.00% | Val Loss: 0.6136, Acc: 85.00% | F1: 0.8465, Prec: 0.8542, Rec: 0.8434\n"
     ]
    },
    {
     "name": "stderr",
     "output_type": "stream",
     "text": [
      "Epoch 13/100 [Training]: 100%|██████████| 8/8 [00:00<00:00, 51.87it/s, Loss=0.0024, Acc=100.00%]\n",
      "Epoch 13/100 [Validation]: 100%|██████████| 2/2 [00:00<00:00, 114.08it/s, Loss=0.6556, Acc=86.67%]\n"
     ]
    },
    {
     "name": "stdout",
     "output_type": "stream",
     "text": [
      "Epoch 13/100 | Train Loss: 0.0046, Acc: 100.00% | Val Loss: 0.7025, Acc: 86.67% | F1: 0.8661, Prec: 0.8654, Rec: 0.8687\n"
     ]
    },
    {
     "name": "stderr",
     "output_type": "stream",
     "text": [
      "Epoch 14/100 [Training]: 100%|██████████| 8/8 [00:00<00:00, 50.76it/s, Loss=0.0042, Acc=99.58%] \n",
      "Epoch 14/100 [Validation]: 100%|██████████| 2/2 [00:00<00:00, 116.40it/s, Loss=0.7346, Acc=86.67%]\n"
     ]
    },
    {
     "name": "stdout",
     "output_type": "stream",
     "text": [
      "Epoch 14/100 | Train Loss: 0.0078, Acc: 99.58% | Val Loss: 0.7871, Acc: 86.67% | F1: 0.8643, Prec: 0.8686, Rec: 0.8620\n"
     ]
    },
    {
     "name": "stderr",
     "output_type": "stream",
     "text": [
      "Epoch 15/100 [Training]: 100%|██████████| 8/8 [00:00<00:00, 52.58it/s, Loss=0.0296, Acc=99.17%]\n",
      "Epoch 15/100 [Validation]: 100%|██████████| 2/2 [00:00<00:00, 123.97it/s, Loss=1.0113, Acc=81.67%]\n"
     ]
    },
    {
     "name": "stdout",
     "output_type": "stream",
     "text": [
      "Epoch 15/100 | Train Loss: 0.0556, Acc: 99.17% | Val Loss: 1.0836, Acc: 81.67% | F1: 0.8044, Prec: 0.8532, Rec: 0.7997\n"
     ]
    },
    {
     "name": "stderr",
     "output_type": "stream",
     "text": [
      "Epoch 16/100 [Training]: 100%|██████████| 8/8 [00:00<00:00, 51.42it/s, Loss=0.0507, Acc=98.33%]\n",
      "Epoch 16/100 [Validation]: 100%|██████████| 2/2 [00:00<00:00, 117.86it/s, Loss=0.6558, Acc=85.00%]\n"
     ]
    },
    {
     "name": "stdout",
     "output_type": "stream",
     "text": [
      "Epoch 16/100 | Train Loss: 0.0951, Acc: 98.33% | Val Loss: 0.7027, Acc: 85.00% | F1: 0.8465, Prec: 0.8542, Rec: 0.8434\n"
     ]
    },
    {
     "name": "stderr",
     "output_type": "stream",
     "text": [
      "Epoch 17/100 [Training]: 100%|██████████| 8/8 [00:00<00:00, 49.24it/s, Loss=0.0241, Acc=99.17%]\n",
      "Epoch 17/100 [Validation]: 100%|██████████| 2/2 [00:00<00:00, 137.96it/s, Loss=0.8442, Acc=81.67%]\n"
     ]
    },
    {
     "name": "stdout",
     "output_type": "stream",
     "text": [
      "Epoch 17/100 | Train Loss: 0.0452, Acc: 99.17% | Val Loss: 0.9045, Acc: 81.67% | F1: 0.8154, Prec: 0.8147, Rec: 0.8165\n"
     ]
    },
    {
     "name": "stderr",
     "output_type": "stream",
     "text": [
      "Epoch 18/100 [Training]: 100%|██████████| 8/8 [00:00<00:00, 50.18it/s, Loss=0.0217, Acc=99.17%]\n",
      "Epoch 18/100 [Validation]: 100%|██████████| 2/2 [00:00<00:00, 134.86it/s, Loss=0.7979, Acc=83.33%]\n"
     ]
    },
    {
     "name": "stdout",
     "output_type": "stream",
     "text": [
      "Epoch 18/100 | Train Loss: 0.0408, Acc: 99.17% | Val Loss: 0.8549, Acc: 83.33% | F1: 0.8326, Prec: 0.8320, Rec: 0.8350\n"
     ]
    },
    {
     "name": "stderr",
     "output_type": "stream",
     "text": [
      "Epoch 19/100 [Training]: 100%|██████████| 8/8 [00:00<00:00, 52.46it/s, Loss=0.0095, Acc=99.58%]\n",
      "Epoch 19/100 [Validation]: 100%|██████████| 2/2 [00:00<00:00, 130.81it/s, Loss=0.7836, Acc=85.00%]\n"
     ]
    },
    {
     "name": "stdout",
     "output_type": "stream",
     "text": [
      "Epoch 19/100 | Train Loss: 0.0178, Acc: 99.58% | Val Loss: 0.8396, Acc: 85.00% | F1: 0.8490, Prec: 0.8482, Rec: 0.8502\n"
     ]
    },
    {
     "name": "stderr",
     "output_type": "stream",
     "text": [
      "Epoch 20/100 [Training]: 100%|██████████| 8/8 [00:00<00:00, 46.80it/s, Loss=0.0026, Acc=100.00%]\n",
      "Epoch 20/100 [Validation]: 100%|██████████| 2/2 [00:00<00:00, 121.84it/s, Loss=0.9937, Acc=80.00%]\n"
     ]
    },
    {
     "name": "stdout",
     "output_type": "stream",
     "text": [
      "Epoch 20/100 | Train Loss: 0.0049, Acc: 100.00% | Val Loss: 1.0647, Acc: 80.00% | F1: 0.7998, Prec: 0.8020, Rec: 0.8047\n"
     ]
    },
    {
     "name": "stderr",
     "output_type": "stream",
     "text": [
      "Epoch 21/100 [Training]: 100%|██████████| 8/8 [00:00<00:00, 53.59it/s, Loss=0.0012, Acc=100.00%]\n",
      "Epoch 21/100 [Validation]: 100%|██████████| 2/2 [00:00<00:00, 135.72it/s, Loss=0.8027, Acc=83.33%]\n"
     ]
    },
    {
     "name": "stdout",
     "output_type": "stream",
     "text": [
      "Epoch 21/100 | Train Loss: 0.0023, Acc: 100.00% | Val Loss: 0.8600, Acc: 83.33% | F1: 0.8316, Prec: 0.8316, Rec: 0.8316\n"
     ]
    },
    {
     "name": "stderr",
     "output_type": "stream",
     "text": [
      "Epoch 22/100 [Training]: 100%|██████████| 8/8 [00:00<00:00, 57.42it/s, Loss=0.0010, Acc=100.00%]\n",
      "Epoch 22/100 [Validation]: 100%|██████████| 2/2 [00:00<00:00, 136.31it/s, Loss=0.7952, Acc=86.67%]\n"
     ]
    },
    {
     "name": "stdout",
     "output_type": "stream",
     "text": [
      "Epoch 22/100 | Train Loss: 0.0018, Acc: 100.00% | Val Loss: 0.8520, Acc: 86.67% | F1: 0.8653, Prec: 0.8653, Rec: 0.8653\n"
     ]
    },
    {
     "name": "stderr",
     "output_type": "stream",
     "text": [
      "Epoch 23/100 [Training]: 100%|██████████| 8/8 [00:00<00:00, 49.24it/s, Loss=0.0014, Acc=100.00%]\n",
      "Epoch 23/100 [Validation]: 100%|██████████| 2/2 [00:00<00:00, 135.91it/s, Loss=0.8794, Acc=83.33%]\n"
     ]
    },
    {
     "name": "stdout",
     "output_type": "stream",
     "text": [
      "Epoch 23/100 | Train Loss: 0.0026, Acc: 100.00% | Val Loss: 0.9422, Acc: 83.33% | F1: 0.8303, Prec: 0.8343, Rec: 0.8283\n"
     ]
    },
    {
     "name": "stderr",
     "output_type": "stream",
     "text": [
      "Epoch 24/100 [Training]: 100%|██████████| 8/8 [00:00<00:00, 49.29it/s, Loss=0.0006, Acc=100.00%]\n",
      "Epoch 24/100 [Validation]: 100%|██████████| 2/2 [00:00<00:00, 134.94it/s, Loss=0.8122, Acc=86.67%]\n"
     ]
    },
    {
     "name": "stdout",
     "output_type": "stream",
     "text": [
      "Epoch 24/100 | Train Loss: 0.0012, Acc: 100.00% | Val Loss: 0.8702, Acc: 86.67% | F1: 0.8653, Prec: 0.8653, Rec: 0.8653\n"
     ]
    },
    {
     "name": "stderr",
     "output_type": "stream",
     "text": [
      "Epoch 25/100 [Training]: 100%|██████████| 8/8 [00:00<00:00, 49.40it/s, Loss=0.0005, Acc=100.00%]\n",
      "Epoch 25/100 [Validation]: 100%|██████████| 2/2 [00:00<00:00, 113.21it/s, Loss=0.9348, Acc=83.33%]\n"
     ]
    },
    {
     "name": "stdout",
     "output_type": "stream",
     "text": [
      "Epoch 25/100 | Train Loss: 0.0010, Acc: 100.00% | Val Loss: 1.0015, Acc: 83.33% | F1: 0.8316, Prec: 0.8316, Rec: 0.8316\n"
     ]
    },
    {
     "name": "stderr",
     "output_type": "stream",
     "text": [
      "Epoch 26/100 [Training]: 100%|██████████| 8/8 [00:00<00:00, 51.70it/s, Loss=0.0004, Acc=100.00%]\n",
      "Epoch 26/100 [Validation]: 100%|██████████| 2/2 [00:00<00:00, 140.75it/s, Loss=0.9255, Acc=85.00%]\n"
     ]
    },
    {
     "name": "stdout",
     "output_type": "stream",
     "text": [
      "Epoch 26/100 | Train Loss: 0.0008, Acc: 100.00% | Val Loss: 0.9916, Acc: 85.00% | F1: 0.8490, Prec: 0.8482, Rec: 0.8502\n"
     ]
    },
    {
     "name": "stderr",
     "output_type": "stream",
     "text": [
      "Epoch 27/100 [Training]: 100%|██████████| 8/8 [00:00<00:00, 53.94it/s, Loss=0.0004, Acc=100.00%]\n",
      "Epoch 27/100 [Validation]: 100%|██████████| 2/2 [00:00<00:00, 138.45it/s, Loss=0.9077, Acc=86.67%]\n"
     ]
    },
    {
     "name": "stdout",
     "output_type": "stream",
     "text": [
      "Epoch 27/100 | Train Loss: 0.0008, Acc: 100.00% | Val Loss: 0.9725, Acc: 86.67% | F1: 0.8653, Prec: 0.8653, Rec: 0.8653\n"
     ]
    },
    {
     "name": "stderr",
     "output_type": "stream",
     "text": [
      "Epoch 28/100 [Training]: 100%|██████████| 8/8 [00:00<00:00, 42.70it/s, Loss=0.0005, Acc=100.00%]\n",
      "Epoch 28/100 [Validation]: 100%|██████████| 2/2 [00:00<00:00, 115.00it/s, Loss=0.8650, Acc=85.00%]\n"
     ]
    },
    {
     "name": "stdout",
     "output_type": "stream",
     "text": [
      "Epoch 28/100 | Train Loss: 0.0009, Acc: 100.00% | Val Loss: 0.9268, Acc: 85.00% | F1: 0.8479, Prec: 0.8495, Rec: 0.8468\n"
     ]
    },
    {
     "name": "stderr",
     "output_type": "stream",
     "text": [
      "Epoch 29/100 [Training]: 100%|██████████| 8/8 [00:00<00:00, 46.78it/s, Loss=0.0003, Acc=100.00%]\n",
      "Epoch 29/100 [Validation]: 100%|██████████| 2/2 [00:00<00:00, 117.09it/s, Loss=0.9269, Acc=83.33%]\n"
     ]
    },
    {
     "name": "stdout",
     "output_type": "stream",
     "text": [
      "Epoch 29/100 | Train Loss: 0.0006, Acc: 100.00% | Val Loss: 0.9932, Acc: 83.33% | F1: 0.8316, Prec: 0.8316, Rec: 0.8316\n"
     ]
    },
    {
     "name": "stderr",
     "output_type": "stream",
     "text": [
      "Epoch 30/100 [Training]: 100%|██████████| 8/8 [00:00<00:00, 50.75it/s, Loss=0.0003, Acc=100.00%]\n",
      "Epoch 30/100 [Validation]: 100%|██████████| 2/2 [00:00<00:00, 115.40it/s, Loss=0.9543, Acc=83.33%]\n"
     ]
    },
    {
     "name": "stdout",
     "output_type": "stream",
     "text": [
      "Epoch 30/100 | Train Loss: 0.0006, Acc: 100.00% | Val Loss: 1.0224, Acc: 83.33% | F1: 0.8316, Prec: 0.8316, Rec: 0.8316\n"
     ]
    },
    {
     "name": "stderr",
     "output_type": "stream",
     "text": [
      "Epoch 31/100 [Training]: 100%|██████████| 8/8 [00:00<00:00, 49.70it/s, Loss=0.0003, Acc=100.00%]\n",
      "Epoch 31/100 [Validation]: 100%|██████████| 2/2 [00:00<00:00, 117.39it/s, Loss=0.9571, Acc=83.33%]\n"
     ]
    },
    {
     "name": "stdout",
     "output_type": "stream",
     "text": [
      "Epoch 31/100 | Train Loss: 0.0005, Acc: 100.00% | Val Loss: 1.0255, Acc: 83.33% | F1: 0.8316, Prec: 0.8316, Rec: 0.8316\n"
     ]
    },
    {
     "name": "stderr",
     "output_type": "stream",
     "text": [
      "Epoch 32/100 [Training]: 100%|██████████| 8/8 [00:00<00:00, 51.95it/s, Loss=0.0003, Acc=100.00%]\n",
      "Epoch 32/100 [Validation]: 100%|██████████| 2/2 [00:00<00:00, 112.04it/s, Loss=0.9514, Acc=85.00%]\n"
     ]
    },
    {
     "name": "stdout",
     "output_type": "stream",
     "text": [
      "Epoch 32/100 | Train Loss: 0.0005, Acc: 100.00% | Val Loss: 1.0194, Acc: 85.00% | F1: 0.8490, Prec: 0.8482, Rec: 0.8502\n"
     ]
    },
    {
     "name": "stderr",
     "output_type": "stream",
     "text": [
      "Epoch 33/100 [Training]: 100%|██████████| 8/8 [00:00<00:00, 54.09it/s, Loss=0.0002, Acc=100.00%]\n",
      "Epoch 33/100 [Validation]: 100%|██████████| 2/2 [00:00<00:00, 145.64it/s, Loss=0.9187, Acc=86.67%]\n"
     ]
    },
    {
     "name": "stdout",
     "output_type": "stream",
     "text": [
      "Epoch 33/100 | Train Loss: 0.0004, Acc: 100.00% | Val Loss: 0.9844, Acc: 86.67% | F1: 0.8653, Prec: 0.8653, Rec: 0.8653\n"
     ]
    },
    {
     "name": "stderr",
     "output_type": "stream",
     "text": [
      "Epoch 34/100 [Training]: 100%|██████████| 8/8 [00:00<00:00, 53.34it/s, Loss=0.0002, Acc=100.00%]\n",
      "Epoch 34/100 [Validation]: 100%|██████████| 2/2 [00:00<00:00, 117.06it/s, Loss=0.9011, Acc=86.67%]\n"
     ]
    },
    {
     "name": "stdout",
     "output_type": "stream",
     "text": [
      "Epoch 34/100 | Train Loss: 0.0004, Acc: 100.00% | Val Loss: 0.9655, Acc: 86.67% | F1: 0.8653, Prec: 0.8653, Rec: 0.8653\n"
     ]
    },
    {
     "name": "stderr",
     "output_type": "stream",
     "text": [
      "Epoch 35/100 [Training]: 100%|██████████| 8/8 [00:00<00:00, 51.29it/s, Loss=0.0002, Acc=100.00%]\n",
      "Epoch 35/100 [Validation]: 100%|██████████| 2/2 [00:00<00:00, 147.17it/s, Loss=1.0003, Acc=83.33%]\n"
     ]
    },
    {
     "name": "stdout",
     "output_type": "stream",
     "text": [
      "Epoch 35/100 | Train Loss: 0.0004, Acc: 100.00% | Val Loss: 1.0718, Acc: 83.33% | F1: 0.8316, Prec: 0.8316, Rec: 0.8316\n"
     ]
    },
    {
     "name": "stderr",
     "output_type": "stream",
     "text": [
      "Epoch 36/100 [Training]: 100%|██████████| 8/8 [00:00<00:00, 51.11it/s, Loss=0.0002, Acc=100.00%]\n",
      "Epoch 36/100 [Validation]: 100%|██████████| 2/2 [00:00<00:00, 107.59it/s, Loss=0.8755, Acc=86.67%]\n"
     ]
    },
    {
     "name": "stdout",
     "output_type": "stream",
     "text": [
      "Epoch 36/100 | Train Loss: 0.0004, Acc: 100.00% | Val Loss: 0.9380, Acc: 86.67% | F1: 0.8653, Prec: 0.8653, Rec: 0.8653\n"
     ]
    },
    {
     "name": "stderr",
     "output_type": "stream",
     "text": [
      "Epoch 37/100 [Training]: 100%|██████████| 8/8 [00:00<00:00, 51.43it/s, Loss=0.0002, Acc=100.00%]\n",
      "Epoch 37/100 [Validation]: 100%|██████████| 2/2 [00:00<00:00, 127.46it/s, Loss=0.9499, Acc=85.00%]\n"
     ]
    },
    {
     "name": "stdout",
     "output_type": "stream",
     "text": [
      "Epoch 37/100 | Train Loss: 0.0004, Acc: 100.00% | Val Loss: 1.0177, Acc: 85.00% | F1: 0.8490, Prec: 0.8482, Rec: 0.8502\n"
     ]
    },
    {
     "name": "stderr",
     "output_type": "stream",
     "text": [
      "Epoch 38/100 [Training]: 100%|██████████| 8/8 [00:00<00:00, 50.73it/s, Loss=0.0002, Acc=100.00%]\n",
      "Epoch 38/100 [Validation]: 100%|██████████| 2/2 [00:00<00:00, 119.05it/s, Loss=0.9911, Acc=83.33%]\n"
     ]
    },
    {
     "name": "stdout",
     "output_type": "stream",
     "text": [
      "Epoch 38/100 | Train Loss: 0.0003, Acc: 100.00% | Val Loss: 1.0618, Acc: 83.33% | F1: 0.8316, Prec: 0.8316, Rec: 0.8316\n"
     ]
    },
    {
     "name": "stderr",
     "output_type": "stream",
     "text": [
      "Epoch 39/100 [Training]: 100%|██████████| 8/8 [00:00<00:00, 57.99it/s, Loss=0.0002, Acc=100.00%]\n",
      "Epoch 39/100 [Validation]: 100%|██████████| 2/2 [00:00<00:00, 136.44it/s, Loss=0.9210, Acc=85.00%]\n"
     ]
    },
    {
     "name": "stdout",
     "output_type": "stream",
     "text": [
      "Epoch 39/100 | Train Loss: 0.0003, Acc: 100.00% | Val Loss: 0.9868, Acc: 85.00% | F1: 0.8490, Prec: 0.8482, Rec: 0.8502\n"
     ]
    },
    {
     "name": "stderr",
     "output_type": "stream",
     "text": [
      "Epoch 40/100 [Training]: 100%|██████████| 8/8 [00:00<00:00, 51.84it/s, Loss=0.0002, Acc=100.00%]\n",
      "Epoch 40/100 [Validation]: 100%|██████████| 2/2 [00:00<00:00, 127.02it/s, Loss=0.9952, Acc=83.33%]\n"
     ]
    },
    {
     "name": "stdout",
     "output_type": "stream",
     "text": [
      "Epoch 40/100 | Train Loss: 0.0003, Acc: 100.00% | Val Loss: 1.0663, Acc: 83.33% | F1: 0.8316, Prec: 0.8316, Rec: 0.8316\n"
     ]
    },
    {
     "name": "stderr",
     "output_type": "stream",
     "text": [
      "Epoch 41/100 [Training]: 100%|██████████| 8/8 [00:00<00:00, 50.02it/s, Loss=0.0002, Acc=100.00%]\n",
      "Epoch 41/100 [Validation]: 100%|██████████| 2/2 [00:00<00:00, 121.41it/s, Loss=1.0598, Acc=83.33%]\n"
     ]
    },
    {
     "name": "stdout",
     "output_type": "stream",
     "text": [
      "Epoch 41/100 | Train Loss: 0.0003, Acc: 100.00% | Val Loss: 1.1355, Acc: 83.33% | F1: 0.8316, Prec: 0.8316, Rec: 0.8316\n"
     ]
    },
    {
     "name": "stderr",
     "output_type": "stream",
     "text": [
      "Epoch 42/100 [Training]: 100%|██████████| 8/8 [00:00<00:00, 50.85it/s, Loss=0.0001, Acc=100.00%]\n",
      "Epoch 42/100 [Validation]: 100%|██████████| 2/2 [00:00<00:00, 142.54it/s, Loss=0.9955, Acc=85.00%]\n"
     ]
    },
    {
     "name": "stdout",
     "output_type": "stream",
     "text": [
      "Epoch 42/100 | Train Loss: 0.0003, Acc: 100.00% | Val Loss: 1.0667, Acc: 85.00% | F1: 0.8490, Prec: 0.8482, Rec: 0.8502\n"
     ]
    },
    {
     "name": "stderr",
     "output_type": "stream",
     "text": [
      "Epoch 43/100 [Training]: 100%|██████████| 8/8 [00:00<00:00, 58.54it/s, Loss=0.0001, Acc=100.00%]\n",
      "Epoch 43/100 [Validation]: 100%|██████████| 2/2 [00:00<00:00, 118.61it/s, Loss=1.0399, Acc=83.33%]\n"
     ]
    },
    {
     "name": "stdout",
     "output_type": "stream",
     "text": [
      "Epoch 43/100 | Train Loss: 0.0003, Acc: 100.00% | Val Loss: 1.1142, Acc: 83.33% | F1: 0.8316, Prec: 0.8316, Rec: 0.8316\n"
     ]
    },
    {
     "name": "stderr",
     "output_type": "stream",
     "text": [
      "Epoch 44/100 [Training]: 100%|██████████| 8/8 [00:00<00:00, 47.64it/s, Loss=0.0001, Acc=100.00%]\n",
      "Epoch 44/100 [Validation]: 100%|██████████| 2/2 [00:00<00:00, 106.44it/s, Loss=1.0260, Acc=85.00%]\n"
     ]
    },
    {
     "name": "stdout",
     "output_type": "stream",
     "text": [
      "Epoch 44/100 | Train Loss: 0.0002, Acc: 100.00% | Val Loss: 1.0993, Acc: 85.00% | F1: 0.8479, Prec: 0.8495, Rec: 0.8468\n"
     ]
    },
    {
     "name": "stderr",
     "output_type": "stream",
     "text": [
      "Epoch 45/100 [Training]: 100%|██████████| 8/8 [00:00<00:00, 49.61it/s, Loss=0.0001, Acc=100.00%]\n",
      "Epoch 45/100 [Validation]: 100%|██████████| 2/2 [00:00<00:00, 144.78it/s, Loss=1.0851, Acc=83.33%]\n"
     ]
    },
    {
     "name": "stdout",
     "output_type": "stream",
     "text": [
      "Epoch 45/100 | Train Loss: 0.0002, Acc: 100.00% | Val Loss: 1.1626, Acc: 83.33% | F1: 0.8316, Prec: 0.8316, Rec: 0.8316\n"
     ]
    },
    {
     "name": "stderr",
     "output_type": "stream",
     "text": [
      "Epoch 46/100 [Training]: 100%|██████████| 8/8 [00:00<00:00, 49.90it/s, Loss=0.0001, Acc=100.00%]\n",
      "Epoch 46/100 [Validation]: 100%|██████████| 2/2 [00:00<00:00, 115.96it/s, Loss=1.0802, Acc=85.00%]\n"
     ]
    },
    {
     "name": "stdout",
     "output_type": "stream",
     "text": [
      "Epoch 46/100 | Train Loss: 0.0002, Acc: 100.00% | Val Loss: 1.1574, Acc: 85.00% | F1: 0.8479, Prec: 0.8495, Rec: 0.8468\n"
     ]
    },
    {
     "name": "stderr",
     "output_type": "stream",
     "text": [
      "Epoch 47/100 [Training]: 100%|██████████| 8/8 [00:00<00:00, 47.50it/s, Loss=0.0001, Acc=100.00%]\n",
      "Epoch 47/100 [Validation]: 100%|██████████| 2/2 [00:00<00:00, 128.20it/s, Loss=1.0495, Acc=85.00%]\n"
     ]
    },
    {
     "name": "stdout",
     "output_type": "stream",
     "text": [
      "Epoch 47/100 | Train Loss: 0.0002, Acc: 100.00% | Val Loss: 1.1244, Acc: 85.00% | F1: 0.8479, Prec: 0.8495, Rec: 0.8468\n"
     ]
    },
    {
     "name": "stderr",
     "output_type": "stream",
     "text": [
      "Epoch 48/100 [Training]: 100%|██████████| 8/8 [00:00<00:00, 48.47it/s, Loss=0.0001, Acc=100.00%]\n",
      "Epoch 48/100 [Validation]: 100%|██████████| 2/2 [00:00<00:00, 126.48it/s, Loss=1.0268, Acc=86.67%]\n"
     ]
    },
    {
     "name": "stdout",
     "output_type": "stream",
     "text": [
      "Epoch 48/100 | Train Loss: 0.0002, Acc: 100.00% | Val Loss: 1.1001, Acc: 86.67% | F1: 0.8653, Prec: 0.8653, Rec: 0.8653\n"
     ]
    },
    {
     "name": "stderr",
     "output_type": "stream",
     "text": [
      "Epoch 49/100 [Training]: 100%|██████████| 8/8 [00:00<00:00, 47.08it/s, Loss=0.0001, Acc=100.00%]\n",
      "Epoch 49/100 [Validation]: 100%|██████████| 2/2 [00:00<00:00, 116.32it/s, Loss=1.1041, Acc=83.33%]\n"
     ]
    },
    {
     "name": "stdout",
     "output_type": "stream",
     "text": [
      "Epoch 49/100 | Train Loss: 0.0002, Acc: 100.00% | Val Loss: 1.1830, Acc: 83.33% | F1: 0.8316, Prec: 0.8316, Rec: 0.8316\n"
     ]
    },
    {
     "name": "stderr",
     "output_type": "stream",
     "text": [
      "Epoch 50/100 [Training]: 100%|██████████| 8/8 [00:00<00:00, 44.83it/s, Loss=0.0001, Acc=100.00%]\n",
      "Epoch 50/100 [Validation]: 100%|██████████| 2/2 [00:00<00:00, 133.85it/s, Loss=1.1866, Acc=81.67%]\n"
     ]
    },
    {
     "name": "stdout",
     "output_type": "stream",
     "text": [
      "Epoch 50/100 | Train Loss: 0.0002, Acc: 100.00% | Val Loss: 1.2713, Acc: 81.67% | F1: 0.8141, Prec: 0.8156, Rec: 0.8131\n"
     ]
    },
    {
     "name": "stderr",
     "output_type": "stream",
     "text": [
      "Epoch 51/100 [Training]: 100%|██████████| 8/8 [00:00<00:00, 56.41it/s, Loss=0.0001, Acc=100.00%]\n",
      "Epoch 51/100 [Validation]: 100%|██████████| 2/2 [00:00<00:00, 133.56it/s, Loss=1.0440, Acc=86.67%]\n"
     ]
    },
    {
     "name": "stdout",
     "output_type": "stream",
     "text": [
      "Epoch 51/100 | Train Loss: 0.0002, Acc: 100.00% | Val Loss: 1.1186, Acc: 86.67% | F1: 0.8653, Prec: 0.8653, Rec: 0.8653\n"
     ]
    },
    {
     "name": "stderr",
     "output_type": "stream",
     "text": [
      "Epoch 52/100 [Training]: 100%|██████████| 8/8 [00:00<00:00, 51.95it/s, Loss=0.0001, Acc=100.00%]\n",
      "Epoch 52/100 [Validation]: 100%|██████████| 2/2 [00:00<00:00, 124.94it/s, Loss=1.0216, Acc=85.00%]\n"
     ]
    },
    {
     "name": "stdout",
     "output_type": "stream",
     "text": [
      "Epoch 52/100 | Train Loss: 0.0002, Acc: 100.00% | Val Loss: 1.0946, Acc: 85.00% | F1: 0.8479, Prec: 0.8495, Rec: 0.8468\n"
     ]
    },
    {
     "name": "stderr",
     "output_type": "stream",
     "text": [
      "Epoch 53/100 [Training]: 100%|██████████| 8/8 [00:00<00:00, 47.01it/s, Loss=0.0001, Acc=100.00%]\n",
      "Epoch 53/100 [Validation]: 100%|██████████| 2/2 [00:00<00:00, 136.85it/s, Loss=1.0551, Acc=85.00%]\n"
     ]
    },
    {
     "name": "stdout",
     "output_type": "stream",
     "text": [
      "Epoch 53/100 | Train Loss: 0.0002, Acc: 100.00% | Val Loss: 1.1305, Acc: 85.00% | F1: 0.8490, Prec: 0.8482, Rec: 0.8502\n"
     ]
    },
    {
     "name": "stderr",
     "output_type": "stream",
     "text": [
      "Epoch 54/100 [Training]: 100%|██████████| 8/8 [00:00<00:00, 49.85it/s, Loss=0.0001, Acc=100.00%]\n",
      "Epoch 54/100 [Validation]: 100%|██████████| 2/2 [00:00<00:00, 110.88it/s, Loss=1.0559, Acc=83.33%]\n"
     ]
    },
    {
     "name": "stdout",
     "output_type": "stream",
     "text": [
      "Epoch 54/100 | Train Loss: 0.0002, Acc: 100.00% | Val Loss: 1.1313, Acc: 83.33% | F1: 0.8316, Prec: 0.8316, Rec: 0.8316\n"
     ]
    },
    {
     "name": "stderr",
     "output_type": "stream",
     "text": [
      "Epoch 55/100 [Training]: 100%|██████████| 8/8 [00:00<00:00, 54.76it/s, Loss=0.0001, Acc=100.00%]\n",
      "Epoch 55/100 [Validation]: 100%|██████████| 2/2 [00:00<00:00, 114.27it/s, Loss=1.1055, Acc=85.00%]\n"
     ]
    },
    {
     "name": "stdout",
     "output_type": "stream",
     "text": [
      "Epoch 55/100 | Train Loss: 0.0002, Acc: 100.00% | Val Loss: 1.1845, Acc: 85.00% | F1: 0.8490, Prec: 0.8482, Rec: 0.8502\n"
     ]
    },
    {
     "name": "stderr",
     "output_type": "stream",
     "text": [
      "Epoch 56/100 [Training]: 100%|██████████| 8/8 [00:00<00:00, 48.46it/s, Loss=0.0001, Acc=100.00%]\n",
      "Epoch 56/100 [Validation]: 100%|██████████| 2/2 [00:00<00:00, 138.21it/s, Loss=1.0729, Acc=85.00%]\n"
     ]
    },
    {
     "name": "stdout",
     "output_type": "stream",
     "text": [
      "Epoch 56/100 | Train Loss: 0.0002, Acc: 100.00% | Val Loss: 1.1496, Acc: 85.00% | F1: 0.8479, Prec: 0.8495, Rec: 0.8468\n"
     ]
    },
    {
     "name": "stderr",
     "output_type": "stream",
     "text": [
      "Epoch 57/100 [Training]: 100%|██████████| 8/8 [00:00<00:00, 40.64it/s, Loss=0.0001, Acc=100.00%]\n",
      "Epoch 57/100 [Validation]: 100%|██████████| 2/2 [00:00<00:00, 139.85it/s, Loss=1.0262, Acc=85.00%]\n"
     ]
    },
    {
     "name": "stdout",
     "output_type": "stream",
     "text": [
      "Epoch 57/100 | Train Loss: 0.0001, Acc: 100.00% | Val Loss: 1.0995, Acc: 85.00% | F1: 0.8490, Prec: 0.8482, Rec: 0.8502\n"
     ]
    },
    {
     "name": "stderr",
     "output_type": "stream",
     "text": [
      "Epoch 58/100 [Training]: 100%|██████████| 8/8 [00:00<00:00, 54.97it/s, Loss=0.0001, Acc=100.00%]\n",
      "Epoch 58/100 [Validation]: 100%|██████████| 2/2 [00:00<00:00, 137.88it/s, Loss=1.0982, Acc=85.00%]\n"
     ]
    },
    {
     "name": "stdout",
     "output_type": "stream",
     "text": [
      "Epoch 58/100 | Train Loss: 0.0001, Acc: 100.00% | Val Loss: 1.1766, Acc: 85.00% | F1: 0.8490, Prec: 0.8482, Rec: 0.8502\n"
     ]
    },
    {
     "name": "stderr",
     "output_type": "stream",
     "text": [
      "Epoch 59/100 [Training]: 100%|██████████| 8/8 [00:00<00:00, 51.62it/s, Loss=0.0001, Acc=100.00%]\n",
      "Epoch 59/100 [Validation]: 100%|██████████| 2/2 [00:00<00:00, 133.32it/s, Loss=1.0945, Acc=85.00%]\n"
     ]
    },
    {
     "name": "stdout",
     "output_type": "stream",
     "text": [
      "Epoch 59/100 | Train Loss: 0.0001, Acc: 100.00% | Val Loss: 1.1727, Acc: 85.00% | F1: 0.8490, Prec: 0.8482, Rec: 0.8502\n"
     ]
    },
    {
     "name": "stderr",
     "output_type": "stream",
     "text": [
      "Epoch 60/100 [Training]: 100%|██████████| 8/8 [00:00<00:00, 48.67it/s, Loss=0.0001, Acc=100.00%]\n",
      "Epoch 60/100 [Validation]: 100%|██████████| 2/2 [00:00<00:00, 112.18it/s, Loss=1.1028, Acc=83.33%]\n"
     ]
    },
    {
     "name": "stdout",
     "output_type": "stream",
     "text": [
      "Epoch 60/100 | Train Loss: 0.0001, Acc: 100.00% | Val Loss: 1.1815, Acc: 83.33% | F1: 0.8316, Prec: 0.8316, Rec: 0.8316\n"
     ]
    },
    {
     "name": "stderr",
     "output_type": "stream",
     "text": [
      "Epoch 61/100 [Training]: 100%|██████████| 8/8 [00:00<00:00, 54.65it/s, Loss=0.0001, Acc=100.00%]\n",
      "Epoch 61/100 [Validation]: 100%|██████████| 2/2 [00:00<00:00, 136.63it/s, Loss=1.0872, Acc=83.33%]\n"
     ]
    },
    {
     "name": "stdout",
     "output_type": "stream",
     "text": [
      "Epoch 61/100 | Train Loss: 0.0001, Acc: 100.00% | Val Loss: 1.1649, Acc: 83.33% | F1: 0.8316, Prec: 0.8316, Rec: 0.8316\n"
     ]
    },
    {
     "name": "stderr",
     "output_type": "stream",
     "text": [
      "Epoch 62/100 [Training]: 100%|██████████| 8/8 [00:00<00:00, 47.87it/s, Loss=0.0001, Acc=100.00%]\n",
      "Epoch 62/100 [Validation]: 100%|██████████| 2/2 [00:00<00:00, 120.25it/s, Loss=1.1235, Acc=85.00%]\n"
     ]
    },
    {
     "name": "stdout",
     "output_type": "stream",
     "text": [
      "Epoch 62/100 | Train Loss: 0.0001, Acc: 100.00% | Val Loss: 1.2038, Acc: 85.00% | F1: 0.8490, Prec: 0.8482, Rec: 0.8502\n"
     ]
    },
    {
     "name": "stderr",
     "output_type": "stream",
     "text": [
      "Epoch 63/100 [Training]: 100%|██████████| 8/8 [00:00<00:00, 43.43it/s, Loss=0.0001, Acc=100.00%]\n",
      "Epoch 63/100 [Validation]: 100%|██████████| 2/2 [00:00<00:00, 124.38it/s, Loss=1.0868, Acc=83.33%]\n"
     ]
    },
    {
     "name": "stdout",
     "output_type": "stream",
     "text": [
      "Epoch 63/100 | Train Loss: 0.0001, Acc: 100.00% | Val Loss: 1.1644, Acc: 83.33% | F1: 0.8316, Prec: 0.8316, Rec: 0.8316\n"
     ]
    },
    {
     "name": "stderr",
     "output_type": "stream",
     "text": [
      "Epoch 64/100 [Training]: 100%|██████████| 8/8 [00:00<00:00, 50.67it/s, Loss=0.0001, Acc=100.00%]\n",
      "Epoch 64/100 [Validation]: 100%|██████████| 2/2 [00:00<00:00, 144.15it/s, Loss=1.0526, Acc=85.00%]\n"
     ]
    },
    {
     "name": "stdout",
     "output_type": "stream",
     "text": [
      "Epoch 64/100 | Train Loss: 0.0001, Acc: 100.00% | Val Loss: 1.1278, Acc: 85.00% | F1: 0.8479, Prec: 0.8495, Rec: 0.8468\n"
     ]
    },
    {
     "name": "stderr",
     "output_type": "stream",
     "text": [
      "Epoch 65/100 [Training]: 100%|██████████| 8/8 [00:00<00:00, 49.82it/s, Loss=0.0001, Acc=100.00%]\n",
      "Epoch 65/100 [Validation]: 100%|██████████| 2/2 [00:00<00:00, 122.81it/s, Loss=1.1605, Acc=83.33%]\n"
     ]
    },
    {
     "name": "stdout",
     "output_type": "stream",
     "text": [
      "Epoch 65/100 | Train Loss: 0.0001, Acc: 100.00% | Val Loss: 1.2434, Acc: 83.33% | F1: 0.8316, Prec: 0.8316, Rec: 0.8316\n"
     ]
    },
    {
     "name": "stderr",
     "output_type": "stream",
     "text": [
      "Epoch 66/100 [Training]: 100%|██████████| 8/8 [00:00<00:00, 49.86it/s, Loss=0.0001, Acc=100.00%]\n",
      "Epoch 66/100 [Validation]: 100%|██████████| 2/2 [00:00<00:00, 142.12it/s, Loss=1.1577, Acc=83.33%]"
     ]
    },
    {
     "name": "stdout",
     "output_type": "stream",
     "text": [
      "Epoch 66/100 | Train Loss: 0.0001, Acc: 100.00% | Val Loss: 1.2404, Acc: 83.33% | F1: 0.8316, Prec: 0.8316, Rec: 0.8316\n"
     ]
    },
    {
     "name": "stderr",
     "output_type": "stream",
     "text": [
      "\n",
      "Epoch 67/100 [Training]: 100%|██████████| 8/8 [00:00<00:00, 50.47it/s, Loss=0.0001, Acc=100.00%]\n",
      "Epoch 67/100 [Validation]: 100%|██████████| 2/2 [00:00<00:00, 118.07it/s, Loss=1.0913, Acc=81.67%]\n"
     ]
    },
    {
     "name": "stdout",
     "output_type": "stream",
     "text": [
      "Epoch 67/100 | Train Loss: 0.0001, Acc: 100.00% | Val Loss: 1.1693, Acc: 81.67% | F1: 0.8141, Prec: 0.8156, Rec: 0.8131\n"
     ]
    },
    {
     "name": "stderr",
     "output_type": "stream",
     "text": [
      "Epoch 68/100 [Training]: 100%|██████████| 8/8 [00:00<00:00, 48.24it/s, Loss=0.0001, Acc=100.00%]\n",
      "Epoch 68/100 [Validation]: 100%|██████████| 2/2 [00:00<00:00, 136.87it/s, Loss=1.0836, Acc=83.33%]\n"
     ]
    },
    {
     "name": "stdout",
     "output_type": "stream",
     "text": [
      "Epoch 68/100 | Train Loss: 0.0001, Acc: 100.00% | Val Loss: 1.1610, Acc: 83.33% | F1: 0.8316, Prec: 0.8316, Rec: 0.8316\n"
     ]
    },
    {
     "name": "stderr",
     "output_type": "stream",
     "text": [
      "Epoch 69/100 [Training]: 100%|██████████| 8/8 [00:00<00:00, 43.14it/s, Loss=0.0001, Acc=100.00%]\n",
      "Epoch 69/100 [Validation]: 100%|██████████| 2/2 [00:00<00:00, 130.01it/s, Loss=1.1505, Acc=85.00%]\n"
     ]
    },
    {
     "name": "stdout",
     "output_type": "stream",
     "text": [
      "Epoch 69/100 | Train Loss: 0.0001, Acc: 100.00% | Val Loss: 1.2327, Acc: 85.00% | F1: 0.8479, Prec: 0.8495, Rec: 0.8468\n"
     ]
    },
    {
     "name": "stderr",
     "output_type": "stream",
     "text": [
      "Epoch 70/100 [Training]: 100%|██████████| 8/8 [00:00<00:00, 54.38it/s, Loss=0.0001, Acc=100.00%]\n",
      "Epoch 70/100 [Validation]: 100%|██████████| 2/2 [00:00<00:00, 140.59it/s, Loss=1.1309, Acc=85.00%]\n"
     ]
    },
    {
     "name": "stdout",
     "output_type": "stream",
     "text": [
      "Epoch 70/100 | Train Loss: 0.0001, Acc: 100.00% | Val Loss: 1.2117, Acc: 85.00% | F1: 0.8490, Prec: 0.8482, Rec: 0.8502\n"
     ]
    },
    {
     "name": "stderr",
     "output_type": "stream",
     "text": [
      "Epoch 71/100 [Training]: 100%|██████████| 8/8 [00:00<00:00, 51.23it/s, Loss=0.0001, Acc=100.00%]\n",
      "Epoch 71/100 [Validation]: 100%|██████████| 2/2 [00:00<00:00, 133.21it/s, Loss=1.1351, Acc=85.00%]\n"
     ]
    },
    {
     "name": "stdout",
     "output_type": "stream",
     "text": [
      "Epoch 71/100 | Train Loss: 0.0001, Acc: 100.00% | Val Loss: 1.2161, Acc: 85.00% | F1: 0.8479, Prec: 0.8495, Rec: 0.8468\n"
     ]
    },
    {
     "name": "stderr",
     "output_type": "stream",
     "text": [
      "Epoch 72/100 [Training]: 100%|██████████| 8/8 [00:00<00:00, 50.18it/s, Loss=0.0001, Acc=100.00%]\n",
      "Epoch 72/100 [Validation]: 100%|██████████| 2/2 [00:00<00:00, 110.36it/s, Loss=1.0803, Acc=81.67%]\n"
     ]
    },
    {
     "name": "stdout",
     "output_type": "stream",
     "text": [
      "Epoch 72/100 | Train Loss: 0.0001, Acc: 100.00% | Val Loss: 1.1574, Acc: 81.67% | F1: 0.8141, Prec: 0.8156, Rec: 0.8131\n"
     ]
    },
    {
     "name": "stderr",
     "output_type": "stream",
     "text": [
      "Epoch 73/100 [Training]: 100%|██████████| 8/8 [00:00<00:00, 49.87it/s, Loss=0.0001, Acc=100.00%]\n",
      "Epoch 73/100 [Validation]: 100%|██████████| 2/2 [00:00<00:00, 133.14it/s, Loss=1.2068, Acc=83.33%]\n"
     ]
    },
    {
     "name": "stdout",
     "output_type": "stream",
     "text": [
      "Epoch 73/100 | Train Loss: 0.0001, Acc: 100.00% | Val Loss: 1.2930, Acc: 83.33% | F1: 0.8316, Prec: 0.8316, Rec: 0.8316\n"
     ]
    },
    {
     "name": "stderr",
     "output_type": "stream",
     "text": [
      "Epoch 74/100 [Training]: 100%|██████████| 8/8 [00:00<00:00, 48.22it/s, Loss=0.0001, Acc=100.00%]\n",
      "Epoch 74/100 [Validation]: 100%|██████████| 2/2 [00:00<00:00, 99.59it/s, Loss=1.1366, Acc=85.00%]\n"
     ]
    },
    {
     "name": "stdout",
     "output_type": "stream",
     "text": [
      "Epoch 74/100 | Train Loss: 0.0001, Acc: 100.00% | Val Loss: 1.2177, Acc: 85.00% | F1: 0.8490, Prec: 0.8482, Rec: 0.8502\n"
     ]
    },
    {
     "name": "stderr",
     "output_type": "stream",
     "text": [
      "Epoch 75/100 [Training]: 100%|██████████| 8/8 [00:00<00:00, 54.95it/s, Loss=0.0001, Acc=100.00%]\n",
      "Epoch 75/100 [Validation]: 100%|██████████| 2/2 [00:00<00:00, 134.94it/s, Loss=1.1098, Acc=86.67%]\n"
     ]
    },
    {
     "name": "stdout",
     "output_type": "stream",
     "text": [
      "Epoch 75/100 | Train Loss: 0.0001, Acc: 100.00% | Val Loss: 1.1890, Acc: 86.67% | F1: 0.8653, Prec: 0.8653, Rec: 0.8653\n"
     ]
    },
    {
     "name": "stderr",
     "output_type": "stream",
     "text": [
      "Epoch 76/100 [Training]: 100%|██████████| 8/8 [00:00<00:00, 53.72it/s, Loss=0.0000, Acc=100.00%]\n",
      "Epoch 76/100 [Validation]: 100%|██████████| 2/2 [00:00<00:00, 127.47it/s, Loss=1.2055, Acc=85.00%]\n"
     ]
    },
    {
     "name": "stdout",
     "output_type": "stream",
     "text": [
      "Epoch 76/100 | Train Loss: 0.0001, Acc: 100.00% | Val Loss: 1.2916, Acc: 85.00% | F1: 0.8479, Prec: 0.8495, Rec: 0.8468\n"
     ]
    },
    {
     "name": "stderr",
     "output_type": "stream",
     "text": [
      "Epoch 77/100 [Training]: 100%|██████████| 8/8 [00:00<00:00, 46.93it/s, Loss=0.0001, Acc=100.00%]\n",
      "Epoch 77/100 [Validation]: 100%|██████████| 2/2 [00:00<00:00, 114.35it/s, Loss=1.2293, Acc=83.33%]\n"
     ]
    },
    {
     "name": "stdout",
     "output_type": "stream",
     "text": [
      "Epoch 77/100 | Train Loss: 0.0001, Acc: 100.00% | Val Loss: 1.3171, Acc: 83.33% | F1: 0.8303, Prec: 0.8343, Rec: 0.8283\n"
     ]
    },
    {
     "name": "stderr",
     "output_type": "stream",
     "text": [
      "Epoch 78/100 [Training]: 100%|██████████| 8/8 [00:00<00:00, 49.64it/s, Loss=0.0000, Acc=100.00%]\n",
      "Epoch 78/100 [Validation]: 100%|██████████| 2/2 [00:00<00:00, 147.62it/s, Loss=1.1659, Acc=85.00%]\n"
     ]
    },
    {
     "name": "stdout",
     "output_type": "stream",
     "text": [
      "Epoch 78/100 | Train Loss: 0.0001, Acc: 100.00% | Val Loss: 1.2492, Acc: 85.00% | F1: 0.8479, Prec: 0.8495, Rec: 0.8468\n"
     ]
    },
    {
     "name": "stderr",
     "output_type": "stream",
     "text": [
      "Epoch 79/100 [Training]: 100%|██████████| 8/8 [00:00<00:00, 52.57it/s, Loss=0.0000, Acc=100.00%]\n",
      "Epoch 79/100 [Validation]: 100%|██████████| 2/2 [00:00<00:00, 114.56it/s, Loss=1.1739, Acc=83.33%]\n"
     ]
    },
    {
     "name": "stdout",
     "output_type": "stream",
     "text": [
      "Epoch 79/100 | Train Loss: 0.0001, Acc: 100.00% | Val Loss: 1.2578, Acc: 83.33% | F1: 0.8303, Prec: 0.8343, Rec: 0.8283\n"
     ]
    },
    {
     "name": "stderr",
     "output_type": "stream",
     "text": [
      "Epoch 80/100 [Training]: 100%|██████████| 8/8 [00:00<00:00, 48.28it/s, Loss=0.0000, Acc=100.00%]\n",
      "Epoch 80/100 [Validation]: 100%|██████████| 2/2 [00:00<00:00, 142.60it/s, Loss=1.1162, Acc=86.67%]\n"
     ]
    },
    {
     "name": "stdout",
     "output_type": "stream",
     "text": [
      "Epoch 80/100 | Train Loss: 0.0001, Acc: 100.00% | Val Loss: 1.1959, Acc: 86.67% | F1: 0.8653, Prec: 0.8653, Rec: 0.8653\n"
     ]
    },
    {
     "name": "stderr",
     "output_type": "stream",
     "text": [
      "Epoch 81/100 [Training]: 100%|██████████| 8/8 [00:00<00:00, 47.96it/s, Loss=0.0000, Acc=100.00%]\n",
      "Epoch 81/100 [Validation]: 100%|██████████| 2/2 [00:00<00:00, 123.75it/s, Loss=1.1969, Acc=85.00%]\n"
     ]
    },
    {
     "name": "stdout",
     "output_type": "stream",
     "text": [
      "Epoch 81/100 | Train Loss: 0.0001, Acc: 100.00% | Val Loss: 1.2824, Acc: 85.00% | F1: 0.8479, Prec: 0.8495, Rec: 0.8468\n"
     ]
    },
    {
     "name": "stderr",
     "output_type": "stream",
     "text": [
      "Epoch 82/100 [Training]: 100%|██████████| 8/8 [00:00<00:00, 48.58it/s, Loss=0.0000, Acc=100.00%]\n",
      "Epoch 82/100 [Validation]: 100%|██████████| 2/2 [00:00<00:00, 138.66it/s, Loss=1.2186, Acc=85.00%]\n"
     ]
    },
    {
     "name": "stdout",
     "output_type": "stream",
     "text": [
      "Epoch 82/100 | Train Loss: 0.0001, Acc: 100.00% | Val Loss: 1.3057, Acc: 85.00% | F1: 0.8479, Prec: 0.8495, Rec: 0.8468\n"
     ]
    },
    {
     "name": "stderr",
     "output_type": "stream",
     "text": [
      "Epoch 83/100 [Training]: 100%|██████████| 8/8 [00:00<00:00, 50.65it/s, Loss=0.0000, Acc=100.00%]\n",
      "Epoch 83/100 [Validation]: 100%|██████████| 2/2 [00:00<00:00, 118.39it/s, Loss=1.1274, Acc=85.00%]\n"
     ]
    },
    {
     "name": "stdout",
     "output_type": "stream",
     "text": [
      "Epoch 83/100 | Train Loss: 0.0001, Acc: 100.00% | Val Loss: 1.2080, Acc: 85.00% | F1: 0.8479, Prec: 0.8495, Rec: 0.8468\n"
     ]
    },
    {
     "name": "stderr",
     "output_type": "stream",
     "text": [
      "Epoch 84/100 [Training]: 100%|██████████| 8/8 [00:00<00:00, 51.68it/s, Loss=0.0002, Acc=100.00%]\n",
      "Epoch 84/100 [Validation]: 100%|██████████| 2/2 [00:00<00:00, 107.69it/s, Loss=1.2011, Acc=85.00%]\n"
     ]
    },
    {
     "name": "stdout",
     "output_type": "stream",
     "text": [
      "Epoch 84/100 | Train Loss: 0.0004, Acc: 100.00% | Val Loss: 1.2869, Acc: 85.00% | F1: 0.8479, Prec: 0.8495, Rec: 0.8468\n"
     ]
    },
    {
     "name": "stderr",
     "output_type": "stream",
     "text": [
      "Epoch 85/100 [Training]: 100%|██████████| 8/8 [00:00<00:00, 46.01it/s, Loss=0.0000, Acc=100.00%]\n",
      "Epoch 85/100 [Validation]: 100%|██████████| 2/2 [00:00<00:00, 112.82it/s, Loss=1.2542, Acc=83.33%]\n"
     ]
    },
    {
     "name": "stdout",
     "output_type": "stream",
     "text": [
      "Epoch 85/100 | Train Loss: 0.0001, Acc: 100.00% | Val Loss: 1.3438, Acc: 83.33% | F1: 0.8286, Prec: 0.8402, Rec: 0.8249\n"
     ]
    },
    {
     "name": "stderr",
     "output_type": "stream",
     "text": [
      "Epoch 86/100 [Training]: 100%|██████████| 8/8 [00:00<00:00, 54.56it/s, Loss=0.0000, Acc=100.00%]\n",
      "Epoch 86/100 [Validation]: 100%|██████████| 2/2 [00:00<00:00, 127.66it/s, Loss=1.1098, Acc=86.67%]\n"
     ]
    },
    {
     "name": "stdout",
     "output_type": "stream",
     "text": [
      "Epoch 86/100 | Train Loss: 0.0001, Acc: 100.00% | Val Loss: 1.1891, Acc: 86.67% | F1: 0.8629, Prec: 0.8754, Rec: 0.8586\n"
     ]
    },
    {
     "name": "stderr",
     "output_type": "stream",
     "text": [
      "Epoch 87/100 [Training]: 100%|██████████| 8/8 [00:00<00:00, 48.09it/s, Loss=0.0001, Acc=100.00%]\n",
      "Epoch 87/100 [Validation]: 100%|██████████| 2/2 [00:00<00:00, 112.91it/s, Loss=1.2075, Acc=85.00%]\n"
     ]
    },
    {
     "name": "stdout",
     "output_type": "stream",
     "text": [
      "Epoch 87/100 | Train Loss: 0.0001, Acc: 100.00% | Val Loss: 1.2938, Acc: 85.00% | F1: 0.8465, Prec: 0.8542, Rec: 0.8434\n"
     ]
    },
    {
     "name": "stderr",
     "output_type": "stream",
     "text": [
      "Epoch 88/100 [Training]: 100%|██████████| 8/8 [00:00<00:00, 55.06it/s, Loss=0.0377, Acc=98.75%]\n",
      "Epoch 88/100 [Validation]: 100%|██████████| 2/2 [00:00<00:00, 129.26it/s, Loss=1.3038, Acc=76.67%]\n"
     ]
    },
    {
     "name": "stdout",
     "output_type": "stream",
     "text": [
      "Epoch 88/100 | Train Loss: 0.0707, Acc: 98.75% | Val Loss: 1.3969, Acc: 76.67% | F1: 0.7569, Prec: 0.7766, Rec: 0.7542\n"
     ]
    },
    {
     "name": "stderr",
     "output_type": "stream",
     "text": [
      "Epoch 89/100 [Training]: 100%|██████████| 8/8 [00:00<00:00, 51.52it/s, Loss=0.0070, Acc=99.58%]\n",
      "Epoch 89/100 [Validation]: 100%|██████████| 2/2 [00:00<00:00, 130.88it/s, Loss=1.0923, Acc=85.00%]\n"
     ]
    },
    {
     "name": "stdout",
     "output_type": "stream",
     "text": [
      "Epoch 89/100 | Train Loss: 0.0131, Acc: 99.58% | Val Loss: 1.1703, Acc: 85.00% | F1: 0.8490, Prec: 0.8482, Rec: 0.8502\n"
     ]
    },
    {
     "name": "stderr",
     "output_type": "stream",
     "text": [
      "Epoch 90/100 [Training]: 100%|██████████| 8/8 [00:00<00:00, 51.00it/s, Loss=0.0252, Acc=99.17%]\n",
      "Epoch 90/100 [Validation]: 100%|██████████| 2/2 [00:00<00:00, 132.45it/s, Loss=0.6034, Acc=86.67%]\n"
     ]
    },
    {
     "name": "stdout",
     "output_type": "stream",
     "text": [
      "Epoch 90/100 | Train Loss: 0.0472, Acc: 99.17% | Val Loss: 0.6465, Acc: 86.67% | F1: 0.8643, Prec: 0.8686, Rec: 0.8620\n"
     ]
    },
    {
     "name": "stderr",
     "output_type": "stream",
     "text": [
      "Epoch 91/100 [Training]: 100%|██████████| 8/8 [00:00<00:00, 51.21it/s, Loss=0.0119, Acc=99.17%]\n",
      "Epoch 91/100 [Validation]: 100%|██████████| 2/2 [00:00<00:00, 123.83it/s, Loss=0.7178, Acc=83.33%]\n"
     ]
    },
    {
     "name": "stdout",
     "output_type": "stream",
     "text": [
      "Epoch 91/100 | Train Loss: 0.0223, Acc: 99.17% | Val Loss: 0.7690, Acc: 83.33% | F1: 0.8303, Prec: 0.8343, Rec: 0.8283\n"
     ]
    },
    {
     "name": "stderr",
     "output_type": "stream",
     "text": [
      "Epoch 92/100 [Training]: 100%|██████████| 8/8 [00:00<00:00, 48.02it/s, Loss=0.0037, Acc=100.00%]\n",
      "Epoch 92/100 [Validation]: 100%|██████████| 2/2 [00:00<00:00, 120.61it/s, Loss=0.7333, Acc=83.33%]\n"
     ]
    },
    {
     "name": "stdout",
     "output_type": "stream",
     "text": [
      "Epoch 92/100 | Train Loss: 0.0069, Acc: 100.00% | Val Loss: 0.7857, Acc: 83.33% | F1: 0.8316, Prec: 0.8316, Rec: 0.8316\n"
     ]
    },
    {
     "name": "stderr",
     "output_type": "stream",
     "text": [
      "Epoch 93/100 [Training]: 100%|██████████| 8/8 [00:00<00:00, 53.35it/s, Loss=0.0011, Acc=100.00%]\n",
      "Epoch 93/100 [Validation]: 100%|██████████| 2/2 [00:00<00:00, 129.12it/s, Loss=0.9690, Acc=80.00%]\n"
     ]
    },
    {
     "name": "stdout",
     "output_type": "stream",
     "text": [
      "Epoch 93/100 | Train Loss: 0.0021, Acc: 100.00% | Val Loss: 1.0382, Acc: 80.00% | F1: 0.7980, Prec: 0.7980, Rec: 0.7980\n"
     ]
    },
    {
     "name": "stderr",
     "output_type": "stream",
     "text": [
      "Epoch 94/100 [Training]: 100%|██████████| 8/8 [00:00<00:00, 50.35it/s, Loss=0.0005, Acc=100.00%]\n",
      "Epoch 94/100 [Validation]: 100%|██████████| 2/2 [00:00<00:00, 117.36it/s, Loss=0.8752, Acc=85.00%]\n"
     ]
    },
    {
     "name": "stdout",
     "output_type": "stream",
     "text": [
      "Epoch 94/100 | Train Loss: 0.0010, Acc: 100.00% | Val Loss: 0.9377, Acc: 85.00% | F1: 0.8490, Prec: 0.8482, Rec: 0.8502\n"
     ]
    },
    {
     "name": "stderr",
     "output_type": "stream",
     "text": [
      "Epoch 95/100 [Training]: 100%|██████████| 8/8 [00:00<00:00, 43.66it/s, Loss=0.0003, Acc=100.00%]\n",
      "Epoch 95/100 [Validation]: 100%|██████████| 2/2 [00:00<00:00, 124.62it/s, Loss=0.9355, Acc=81.67%]\n"
     ]
    },
    {
     "name": "stdout",
     "output_type": "stream",
     "text": [
      "Epoch 95/100 | Train Loss: 0.0006, Acc: 100.00% | Val Loss: 1.0023, Acc: 81.67% | F1: 0.8154, Prec: 0.8147, Rec: 0.8165\n"
     ]
    },
    {
     "name": "stderr",
     "output_type": "stream",
     "text": [
      "Epoch 96/100 [Training]: 100%|██████████| 8/8 [00:00<00:00, 46.96it/s, Loss=0.0002, Acc=100.00%]\n",
      "Epoch 96/100 [Validation]: 100%|██████████| 2/2 [00:00<00:00, 113.12it/s, Loss=0.8966, Acc=85.00%]\n"
     ]
    },
    {
     "name": "stdout",
     "output_type": "stream",
     "text": [
      "Epoch 96/100 | Train Loss: 0.0004, Acc: 100.00% | Val Loss: 0.9607, Acc: 85.00% | F1: 0.8490, Prec: 0.8482, Rec: 0.8502\n"
     ]
    },
    {
     "name": "stderr",
     "output_type": "stream",
     "text": [
      "Epoch 97/100 [Training]: 100%|██████████| 8/8 [00:00<00:00, 58.85it/s, Loss=0.0002, Acc=100.00%]\n",
      "Epoch 97/100 [Validation]: 100%|██████████| 2/2 [00:00<00:00, 149.04it/s, Loss=0.9225, Acc=85.00%]\n"
     ]
    },
    {
     "name": "stdout",
     "output_type": "stream",
     "text": [
      "Epoch 97/100 | Train Loss: 0.0004, Acc: 100.00% | Val Loss: 0.9884, Acc: 85.00% | F1: 0.8490, Prec: 0.8482, Rec: 0.8502\n"
     ]
    },
    {
     "name": "stderr",
     "output_type": "stream",
     "text": [
      "Epoch 98/100 [Training]: 100%|██████████| 8/8 [00:00<00:00, 54.75it/s, Loss=0.0003, Acc=100.00%]\n",
      "Epoch 98/100 [Validation]: 100%|██████████| 2/2 [00:00<00:00, 154.10it/s, Loss=1.0471, Acc=83.33%]\n"
     ]
    },
    {
     "name": "stdout",
     "output_type": "stream",
     "text": [
      "Epoch 98/100 | Train Loss: 0.0005, Acc: 100.00% | Val Loss: 1.1219, Acc: 83.33% | F1: 0.8316, Prec: 0.8316, Rec: 0.8316\n"
     ]
    },
    {
     "name": "stderr",
     "output_type": "stream",
     "text": [
      "Epoch 99/100 [Training]: 100%|██████████| 8/8 [00:00<00:00, 59.06it/s, Loss=0.0002, Acc=100.00%]\n",
      "Epoch 99/100 [Validation]: 100%|██████████| 2/2 [00:00<00:00, 126.86it/s, Loss=0.9373, Acc=85.00%]\n"
     ]
    },
    {
     "name": "stdout",
     "output_type": "stream",
     "text": [
      "Epoch 99/100 | Train Loss: 0.0003, Acc: 100.00% | Val Loss: 1.0042, Acc: 85.00% | F1: 0.8490, Prec: 0.8482, Rec: 0.8502\n"
     ]
    },
    {
     "name": "stderr",
     "output_type": "stream",
     "text": [
      "Epoch 100/100 [Training]: 100%|██████████| 8/8 [00:00<00:00, 49.25it/s, Loss=0.0001, Acc=100.00%]\n",
      "Epoch 100/100 [Validation]: 100%|██████████| 2/2 [00:00<00:00, 151.95it/s, Loss=1.0305, Acc=81.67%]\n"
     ]
    },
    {
     "name": "stdout",
     "output_type": "stream",
     "text": [
      "Epoch 100/100 | Train Loss: 0.0002, Acc: 100.00% | Val Loss: 1.1042, Acc: 81.67% | F1: 0.8154, Prec: 0.8147, Rec: 0.8165\n"
     ]
    }
   ],
   "source": [
    "from model.LSTM import LSTMModel3, BidirectionalLSTMModel, GRUModel, LSTM_CNN_Model\n",
    "\n",
    "model = LSTMModel3(weights= None)\n",
    "model.train_model(data='data.yaml')\n"
   ]
  },
  {
   "cell_type": "code",
   "execution_count": null,
   "metadata": {},
   "outputs": [],
   "source": []
  }
 ],
 "metadata": {
  "kernelspec": {
   "display_name": "env",
   "language": "python",
   "name": "python3"
  },
  "language_info": {
   "codemirror_mode": {
    "name": "ipython",
    "version": 3
   },
   "file_extension": ".py",
   "mimetype": "text/x-python",
   "name": "python",
   "nbconvert_exporter": "python",
   "pygments_lexer": "ipython3",
   "version": "3.12.3"
  }
 },
 "nbformat": 4,
 "nbformat_minor": 2
}
